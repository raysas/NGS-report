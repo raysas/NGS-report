{
 "cells": [
  {
   "cell_type": "markdown",
   "metadata": {},
   "source": [
    "<div align=\"center\">\n",
    "\n",
    "This report is presented by:  \n",
    "\n",
    "\n",
    "Joelle ASSY   \n",
    "Aya BEN TAGHALINE   \n",
    "Rayane ADAM  \n",
    "\n",
    "As part of the NGS course in M1 GENIOMHE 2024-25\n",
    "\n",
    "  \n",
    "</div>"
   ]
  },
  {
   "cell_type": "code",
   "execution_count": 1,
   "metadata": {},
   "outputs": [],
   "source": [
    "setwd('../data/TP_DATA_PROG/')"
   ]
  },
  {
   "cell_type": "markdown",
   "metadata": {},
   "source": [
    "# I. Study of a monogenic disease: Clouston's disease"
   ]
  },
  {
   "cell_type": "markdown",
   "metadata": {},
   "source": [
    "## a: Genetic linkage analysis - lodscore method"
   ]
  },
  {
   "cell_type": "markdown",
   "metadata": {},
   "source": [
    "### a.1. Install the paramlink package and call the library"
   ]
  },
  {
   "cell_type": "code",
   "execution_count": 2,
   "metadata": {},
   "outputs": [
    {
     "name": "stderr",
     "output_type": "stream",
     "text": [
      "Updating HTML index of packages in '.Library'\n",
      "\n",
      "Making 'packages.html' ...\n",
      " done\n",
      "\n",
      "\n",
      "PLEASE NOTE:\n",
      "Paramlink has been superseded by the `ped suite` packages (https://magnusdv.github.io/pedsuite/).\n",
      "It is maintained for legacy purposes only, and should not be used in new projects.\n",
      "\n",
      "\n"
     ]
    }
   ],
   "source": [
    "install.packages('paramlink')\n",
    "library(paramlink)"
   ]
  },
  {
   "cell_type": "markdown",
   "metadata": {},
   "source": [
    "### a.2. Read and view the data file"
   ]
  },
  {
   "cell_type": "code",
   "execution_count": 3,
   "metadata": {},
   "outputs": [
    {
     "name": "stdout",
     "output_type": "stream",
     "text": [
      "'data.frame':\t47 obs. of  32 variables:\n",
      " $ Family_number    : int  1 1 1 1 1 1 1 1 1 1 ...\n",
      " $ Individual_number: int  1 2 21 5 4 3 6 36 26 25 ...\n",
      " $ Father_number    : int  0 0 0 1 1 1 0 0 5 5 ...\n",
      " $ Mother_number    : int  0 0 0 2 2 2 0 0 21 21 ...\n",
      " $ Sex              : int  1 2 2 1 1 1 2 2 1 2 ...\n",
      " $ Disease_status   : int  2 1 1 2 1 2 1 1 2 1 ...\n",
      " $ marker1_1        : int  0 0 0 9 0 0 0 3 9 1 ...\n",
      " $ marker1_2        : int  0 0 0 1 0 0 0 9 2 2 ...\n",
      " $ marker2_1        : int  0 0 0 5 0 0 0 6 5 10 ...\n",
      " $ marker2_2        : int  0 0 0 10 0 0 0 8 6 6 ...\n",
      " $ marker3_1        : int  0 0 0 4 0 0 0 4 4 2 ...\n",
      " $ marker3_2        : int  0 0 0 2 0 0 0 4 2 2 ...\n",
      " $ marker4_1        : int  0 0 0 2 0 0 0 6 2 3 ...\n",
      " $ marker4_2        : int  0 0 0 3 0 0 0 5 3 3 ...\n",
      " $ marker5_1        : int  0 0 0 3 0 0 0 1 3 2 ...\n",
      " $ marker5_2        : int  0 0 0 2 0 0 0 2 2 2 ...\n",
      " $ marker6_1        : int  0 0 0 3 0 0 0 5 3 3 ...\n",
      " $ marker6_2        : int  0 0 0 3 0 0 0 2 8 8 ...\n",
      " $ marker7_1        : int  0 0 0 1 0 0 0 2 1 3 ...\n",
      " $ marker7_2        : int  0 0 0 3 0 0 0 3 3 3 ...\n",
      " $ marker8_1        : int  0 0 0 1 0 0 0 2 1 2 ...\n",
      " $ marker8_2        : int  0 0 0 2 0 0 0 2 2 2 ...\n",
      " $ marker9_1        : int  0 0 0 7 0 0 0 7 7 6 ...\n",
      " $ marker9_2        : int  0 0 0 6 0 0 0 6 6 6 ...\n",
      " $ marker10_1       : int  0 0 0 5 0 0 0 2 5 5 ...\n",
      " $ marker10_2       : int  0 0 0 5 0 0 0 4 8 8 ...\n",
      " $ marker11_1       : int  0 0 0 4 0 0 0 8 4 4 ...\n",
      " $ marker11_2       : int  0 0 0 4 0 0 0 3 5 5 ...\n",
      " $ marker12_1       : int  0 0 0 2 0 0 0 1 2 2 ...\n",
      " $ marker12_2       : int  0 0 0 2 0 0 0 3 1 1 ...\n",
      " $ marker13_1       : int  0 0 0 3 0 0 0 2 3 3 ...\n",
      " $ marker13_2       : int  0 0 0 3 0 0 0 3 2 2 ...\n"
     ]
    }
   ],
   "source": [
    "cols<-c('Family_number','Individual_number','Father_number','Mother_number', 'Sex', 'Disease_status','marker1_1','marker1_2','marker2_1','marker2_2','marker3_1','marker3_2','marker4_1','marker4_2','marker5_1','marker5_2','marker6_1','marker6_2','marker7_1','marker7_2','marker8_1','marker8_2','marker9_1','marker9_2','marker10_1','marker10_2','marker11_1','marker11_2','marker12_1','marker12_2','marker13_1','marker13_2')\n",
    "\n",
    "fam<-read.table('I.a.Paramlink/fam.txt')\n",
    "colnames(fam)<-cols\n",
    "# fam[1:5,1:10]\n",
    "str(fam)"
   ]
  },
  {
   "cell_type": "markdown",
   "metadata": {},
   "source": [
    "#### Q1:\n",
    "\n",
    "genotype of the first marker of the individual of id 5"
   ]
  },
  {
   "cell_type": "code",
   "execution_count": 4,
   "metadata": {},
   "outputs": [
    {
     "name": "stdout",
     "output_type": "stream",
     "text": [
      "9 1"
     ]
    }
   ],
   "source": [
    "for (row in 1:nrow(fam)){\n",
    "  if (fam[row,'Individual_number']==5){\n",
    "    cat(fam[row,]$marker1_1,fam[row,]$marker1_2)\n",
    "  }\n",
    "}"
   ]
  },
  {
   "cell_type": "markdown",
   "metadata": {},
   "source": [
    "The genotype of the individual 5 is 9/1"
   ]
  },
  {
   "cell_type": "markdown",
   "metadata": {},
   "source": [
    "### a.3. Data transformation for linkage analysis and descriptive statistics"
   ]
  },
  {
   "cell_type": "code",
   "execution_count": 5,
   "metadata": {},
   "outputs": [
    {
     "name": "stdout",
     "output_type": "stream",
     "text": [
      "Family ID: 1.\n",
      "47 individuals.\n",
      "22 affected, 25 non-affected.\n",
      "10 nuclear subfamilies.\n",
      "13 markers.\n",
      "\n"
     ]
    }
   ],
   "source": [
    "x=linkdat(fam)"
   ]
  },
  {
   "cell_type": "markdown",
   "metadata": {},
   "source": [
    "#### Q2:\n"
   ]
  },
  {
   "cell_type": "code",
   "execution_count": null,
   "metadata": {},
   "outputs": [
    {
     "data": {
      "text/html": [
       "<style>\n",
       ".list-inline {list-style: none; margin:0; padding: 0}\n",
       ".list-inline>li {display: inline-block}\n",
       ".list-inline>li:not(:last-child)::after {content: \"\\00b7\"; padding: 0 .5ex}\n",
       "</style>\n",
       "<ol class=list-inline><li>1</li><li>1</li><li>1</li><li>1</li><li>1</li><li>1</li><li>1</li><li>1</li><li>1</li><li>1</li><li>1</li><li>1</li><li>1</li><li>1</li><li>1</li><li>1</li><li>1</li><li>1</li><li>1</li><li>1</li><li>1</li><li>1</li><li>1</li><li>1</li><li>1</li><li>1</li><li>1</li><li>1</li><li>1</li><li>1</li><li>1</li><li>1</li><li>1</li><li>1</li><li>1</li><li>1</li><li>1</li><li>1</li><li>1</li><li>1</li><li>1</li><li>1</li><li>1</li><li>1</li><li>1</li><li>1</li><li>1</li></ol>\n"
      ],
      "text/latex": [
       "\\begin{enumerate*}\n",
       "\\item 1\n",
       "\\item 1\n",
       "\\item 1\n",
       "\\item 1\n",
       "\\item 1\n",
       "\\item 1\n",
       "\\item 1\n",
       "\\item 1\n",
       "\\item 1\n",
       "\\item 1\n",
       "\\item 1\n",
       "\\item 1\n",
       "\\item 1\n",
       "\\item 1\n",
       "\\item 1\n",
       "\\item 1\n",
       "\\item 1\n",
       "\\item 1\n",
       "\\item 1\n",
       "\\item 1\n",
       "\\item 1\n",
       "\\item 1\n",
       "\\item 1\n",
       "\\item 1\n",
       "\\item 1\n",
       "\\item 1\n",
       "\\item 1\n",
       "\\item 1\n",
       "\\item 1\n",
       "\\item 1\n",
       "\\item 1\n",
       "\\item 1\n",
       "\\item 1\n",
       "\\item 1\n",
       "\\item 1\n",
       "\\item 1\n",
       "\\item 1\n",
       "\\item 1\n",
       "\\item 1\n",
       "\\item 1\n",
       "\\item 1\n",
       "\\item 1\n",
       "\\item 1\n",
       "\\item 1\n",
       "\\item 1\n",
       "\\item 1\n",
       "\\item 1\n",
       "\\end{enumerate*}\n"
      ],
      "text/markdown": [
       "1. 1\n",
       "2. 1\n",
       "3. 1\n",
       "4. 1\n",
       "5. 1\n",
       "6. 1\n",
       "7. 1\n",
       "8. 1\n",
       "9. 1\n",
       "10. 1\n",
       "11. 1\n",
       "12. 1\n",
       "13. 1\n",
       "14. 1\n",
       "15. 1\n",
       "16. 1\n",
       "17. 1\n",
       "18. 1\n",
       "19. 1\n",
       "20. 1\n",
       "21. 1\n",
       "22. 1\n",
       "23. 1\n",
       "24. 1\n",
       "25. 1\n",
       "26. 1\n",
       "27. 1\n",
       "28. 1\n",
       "29. 1\n",
       "30. 1\n",
       "31. 1\n",
       "32. 1\n",
       "33. 1\n",
       "34. 1\n",
       "35. 1\n",
       "36. 1\n",
       "37. 1\n",
       "38. 1\n",
       "39. 1\n",
       "40. 1\n",
       "41. 1\n",
       "42. 1\n",
       "43. 1\n",
       "44. 1\n",
       "45. 1\n",
       "46. 1\n",
       "47. 1\n",
       "\n",
       "\n"
      ],
      "text/plain": [
       " [1] 1 1 1 1 1 1 1 1 1 1 1 1 1 1 1 1 1 1 1 1 1 1 1 1 1 1 1 1 1 1 1 1 1 1 1 1 1 1\n",
       "[39] 1 1 1 1 1 1 1 1 1"
      ]
     },
     "metadata": {},
     "output_type": "display_data"
    }
   ],
   "source": [
    "## count the number of families in family number of fam\n",
    "fam$Family_number"
   ]
  },
  {
   "cell_type": "markdown",
   "metadata": {},
   "source": [
    "There is 1 family in the dataset"
   ]
  },
  {
   "cell_type": "code",
   "execution_count": 7,
   "metadata": {},
   "outputs": [
    {
     "data": {
      "text/html": [
       "'affected indiv:25'"
      ],
      "text/latex": [
       "'affected indiv:25'"
      ],
      "text/markdown": [
       "'affected indiv:25'"
      ],
      "text/plain": [
       "[1] \"affected indiv:25\""
      ]
     },
     "metadata": {},
     "output_type": "display_data"
    },
    {
     "data": {
      "text/html": [
       "'unaffected indiv:22'"
      ],
      "text/latex": [
       "'unaffected indiv:22'"
      ],
      "text/markdown": [
       "'unaffected indiv:22'"
      ],
      "text/plain": [
       "[1] \"unaffected indiv:22\""
      ]
     },
     "metadata": {},
     "output_type": "display_data"
    }
   ],
   "source": [
    "affected_indiv<-c()\n",
    "unaffected_indiv<-c()\n",
    "\n",
    "for (i in 1:nrow(fam)){\n",
    "  if (fam[i,'Disease_status']==1){\n",
    "    affected_indiv<-c(affected_indiv,fam[i,'Individual_number'])\n",
    "  } else {\n",
    "    unaffected_indiv<-c(unaffected_indiv,fam[i,'Individual_number'])\n",
    "  }\n",
    "}\n",
    "\n",
    "paste0('affected indiv:',length(affected_indiv))\n",
    "paste0('unaffected indiv:',length(unaffected_indiv))"
   ]
  },
  {
   "cell_type": "markdown",
   "metadata": {},
   "source": [
    "There is: \n",
    "\n",
    "* 25 affected  \n",
    "* 22 unaffected"
   ]
  },
  {
   "cell_type": "markdown",
   "metadata": {},
   "source": [
    "13 markers are analyzed"
   ]
  },
  {
   "cell_type": "markdown",
   "metadata": {},
   "source": [
    "<!-- \n",
    "1 family with 10 nuclear subfamilies.  \n",
    "47 individuals: 22 affected, 25 non-affected.  \n",
    "13 markers analyzed -->"
   ]
  },
  {
   "cell_type": "markdown",
   "metadata": {},
   "source": [
    "#### Q3:"
   ]
  },
  {
   "cell_type": "code",
   "execution_count": 8,
   "metadata": {},
   "outputs": [
    {
     "data": {
      "text/plain": [
       "   ID FID MID SEX AFF  V1   V2  V3  V4  V5\n",
       "1   1   0   0   1   2 -/-  -/- -/- -/- -/-\n",
       "2   2   0   0   2   1 -/-  -/- -/- -/- -/-\n",
       "3  21   0   0   2   1 -/-  -/- -/- -/- -/-\n",
       "4   5   1   2   1   2 9/1 5/10 4/2 2/3 3/2\n",
       "5   4   1   2   1   1 -/-  -/- -/- -/- -/-\n",
       "6   3   1   2   1   2 -/-  -/- -/- -/- -/-\n",
       "7   6   0   0   2   1 -/-  -/- -/- -/- -/-\n",
       "8  36   0   0   2   1 3/9  6/8 4/4 6/5 1/2\n",
       "9  26   5  21   1   2 9/2  5/6 4/2 2/3 3/2\n",
       "10 25   5  21   2   1 1/2 10/6 2/2 3/3 2/2\n",
       "11 23   5  21   2   2 9/2  5/5 4/4 2/4 3/3\n",
       "12 30   0   0   1   1 -/-  -/- -/- -/- -/-\n",
       "13 22   5  21   2   2 9/2  5/5 4/4 2/4 3/3\n",
       "14 27   0   0   1   1 1/1  2/9 3/4 3/4 3/3\n",
       "15 24   5  21   2   2 9/2  5/6 4/2 2/3 3/2\n",
       "16 32   0   0   1   1 2/2  9/3 4/4 2/5 3/4\n",
       "17 44  26  36   2   2 9/3  5/6 4/4 2/6 3/1\n",
       "18 43  26  36   2   2 9/9  5/8 4/4 2/5 3/2\n",
       "19 42  26  36   2   1 -/-  -/- -/- -/- -/-\n",
       "20 41  26  36   1   2 9/9  5/8 4/4 2/5 3/2\n",
       "21 40  26  36   2   1 3/2  6/6 4/2 6/3 1/2\n",
       "22 39  26  36   1   1 3/2  6/6 4/2 6/3 1/2\n",
       "23 38  26  36   1   2 9/3  5/6 4/4 2/6 3/1\n",
       "24 37  26  36   2   1 3/2  6/6 4/2 6/3 1/2\n",
       "25 31  30  23   1   1 2/9  5/9 4/4 4/3 3/3\n",
       "26 29  27  22   1   1 1/2  9/5 4/4 4/4 3/3\n",
       "27 28  27  22   2   2 9/1  5/2 4/3 2/3 3/3\n",
       "28 35  32  24   1   2 9/2  5/3 4/4 2/5 3/4\n",
       "29 34  32  24   1   2 9/2  5/9 4/4 2/2 3/3\n",
       "30 33  32  24   2   2 9/2  5/3 4/4 2/5 3/4\n",
       "31 14   0   0   1   1 1/2 3/10 4/4 4/4 3/3\n",
       "32  7   3   6   2   2 9/1  5/6 4/6 2/4 3/2\n",
       "33  8   3   6   1   1 -/-  -/- -/- -/- -/-\n",
       "34  9   3   6   2   1 1/4  6/6 6/4 4/6 2/2\n",
       "35 10   3   6   1   1 -/-  -/- -/- -/- -/-\n",
       "36 11   3   6   1   1 -/-  -/- -/- -/- -/-\n",
       "37 12   3   6   1   1 1/4  6/6 6/4 4/6 2/2\n",
       "38 13   3   6   2   2 9/1  5/6 4/6 2/4 3/2\n",
       "39 18   0   0   1   1 5/1  9/5 2/7 6/6 2/2\n",
       "40 15  14   7   2   2 9/2 5/10 4/4 2/4 3/3\n",
       "41 16  14   7   2   1 1/1  6/3 6/4 4/4 2/3\n",
       "42 17  14   7   1   2 -/-  -/- -/- -/- -/-\n",
       "43 19  18  15   1   2 9/5  5/9 4/2 2/6 3/2\n",
       "44 20  18  15   2   2 9/1  5/9 4/2 2/6 3/2\n",
       "45 47   0   0   1   1 -/-  -/- -/- -/- -/-\n",
       "46 46  47  13   2   1 1/8  6/8 6/3 4/5 2/2\n",
       "47 45  47  13   2   2 9/8  5/5 4/4 2/7 3/3\n",
       "\n",
       "Only first 5 markers are shown. Use option 'markers=' to print specified markers."
      ]
     },
     "metadata": {},
     "output_type": "display_data"
    }
   ],
   "source": [
    "x"
   ]
  },
  {
   "cell_type": "markdown",
   "metadata": {},
   "source": [
    "They have taken each marker's 2 columns representing the alleles and transformed them into one column of format `allele1/allele2` $\\iff$ representing the genotype. "
   ]
  },
  {
   "cell_type": "markdown",
   "metadata": {},
   "source": [
    "#### Q4"
   ]
  },
  {
   "cell_type": "code",
   "execution_count": null,
   "metadata": {},
   "outputs": [
    {
     "name": "stdout",
     "output_type": "stream",
     "text": [
      "Pedigree:\n",
      "---------\n",
      "47 individuals\n",
      "11 founders, 36 nonfounders; bit size = 61 \n",
      "10 nuclear subfamilies \n",
      "22 affected by disease, 25 unaffected, 0 with unknown affection status\n",
      "\n",
      "Marker data:\n",
      "------------\n",
      "13 markers in total\n",
      "13 individuals with no available genotypes: 1, 2, 21, 4, 3, 6, 30, 42, 8, 10, 11, 17, 47 \n",
      "0 % missing alleles (excluding ungenotyped individuals)\n",
      "\n",
      "Chromosome distribution of markers:\n",
      " chromosome unknown: 13 markers\n",
      "\n",
      "Allele number distribution:\n",
      " 3 alleles: 1 marker\n",
      " 4 alleles: 4 markers\n",
      " 5 alleles: 2 markers\n",
      " 6 alleles: 2 markers\n",
      " 7 alleles: 4 markers\n",
      "\n",
      "Model parameters:\n",
      "-----------------\n",
      "No model parameters set\n"
     ]
    }
   ],
   "source": [
    "summary(x)"
   ]
  },
  {
   "cell_type": "markdown",
   "metadata": {
    "vscode": {
     "languageId": "r"
    }
   },
   "source": [
    "There is: \n",
    "\n",
    "* 11 founder individuals  \n",
    "* 13 with unknown genotypes  \n",
    "* 4 markers with 7 alleles"
   ]
  },
  {
   "cell_type": "markdown",
   "metadata": {},
   "source": [
    "### a.4. Family tree drawing for 1st marker"
   ]
  },
  {
   "cell_type": "code",
   "execution_count": null,
   "metadata": {},
   "outputs": [
    {
     "data": {
      "image/png": "[encoded data removed]",
      "text/plain": [
       "plot without title"
      ]
     },
     "metadata": {
      "image/png": {
       "height": 420,
       "width": 420
      }
     },
     "output_type": "display_data"
    }
   ],
   "source": [
    "plot(x, marker=1)"
   ]
  },
  {
   "cell_type": "markdown",
   "metadata": {},
   "source": [
    "#### Q5:"
   ]
  },
  {
   "cell_type": "markdown",
   "metadata": {},
   "source": [
    "For indiv 15,16 and 17 repsectively:  \n",
    "\n",
    "* 9/2  \n",
    "* 1/1\n",
    "* missing (-/-)"
   ]
  },
  {
   "cell_type": "markdown",
   "metadata": {},
   "source": [
    "### a.5. Definition of the genetic model to be considered for linkage analyses"
   ]
  },
  {
   "cell_type": "markdown",
   "metadata": {
    "vscode": {
     "languageId": "r"
    }
   },
   "source": [
    "Here `Dd` and `DD` are the at-risk genotypes, since it's autosomal dominant and `d` is the deleterious allele (so dominant allele)"
   ]
  },
  {
   "cell_type": "code",
   "execution_count": 9,
   "metadata": {},
   "outputs": [],
   "source": [
    "xdom=setModel(x, model=1, penetrances = c(0.00001,1,1), dfreq=0.00001)"
   ]
  },
  {
   "cell_type": "markdown",
   "metadata": {},
   "source": [
    "Here we have $Phenocopy=P(affected/DD) = 0.00001$  "
   ]
  },
  {
   "cell_type": "markdown",
   "metadata": {},
   "source": [
    "### a.6. Linkage analyses with lodscore calculation for given theta values"
   ]
  },
  {
   "cell_type": "code",
   "execution_count": 10,
   "metadata": {},
   "outputs": [],
   "source": [
    "lod_values=lod(xdom, theta=c(0,0.05,0.1,0.15,0.2,0.25,0.3,0.4,0.5))"
   ]
  },
  {
   "cell_type": "code",
   "execution_count": 13,
   "metadata": {},
   "outputs": [
    {
     "name": "stdout",
     "output_type": "stream",
     "text": [
      " 'linkres' num [1:9, 1:13] 7.67 7.04 6.37 5.66 4.92 ...\n",
      " - attr(*, \"dimnames\")=List of 2\n",
      "  ..$ : chr [1:9] \"0\" \"0.05\" \"0.1\" \"0.15\" ...\n",
      "  ..$ : chr [1:13] \"M1\" \"M2\" \"M3\" \"M4\" ...\n",
      " - attr(*, \"analysis\")= chr \"mlink\"\n",
      " - attr(*, \"map\")='data.frame':\t13 obs. of  3 variables:\n",
      "  ..$ CHR   : num [1:13] 1 1 1 1 1 1 1 1 1 1 ...\n",
      "  ..$ MARKER: chr [1:13] \"M1\" \"M2\" \"M3\" \"M4\" ...\n",
      "  ..$ POS   : int [1:13] 1 2 3 4 5 6 7 8 9 10 ...\n"
     ]
    }
   ],
   "source": [
    "str(lod_values)"
   ]
  },
  {
   "cell_type": "markdown",
   "metadata": {},
   "source": [
    "#### Q6"
   ]
  },
  {
   "cell_type": "markdown",
   "metadata": {},
   "source": [
    "We can the same pattern for markers M1 to M10: max lod score is obtained for theta=0 and its value in each of these markers is higher than 3 -> reject the null hypothesis -> conclusion is this gene is very close to each of these genetic markers. And if the disease gene is close to them all it means that the first 10 markers are in cluster, they are very close. \n",
    "\n",
    "For marker 11 and 12 the max lod score is obtained for same theta value = 0.05 and the value is higher than 3 so we can reject the null hypothesis and conclude that the probable location of the disease locus is around 0.05 cM from these markers. \n",
    "\n",
    "For the marker 13, there is no theta value for which the lod-score is higher than 3, but for theta=0 the lod-sore = -32 < -2 so the null hypothesis is not rejected, hence we can exclude that the disease gene is close to this marker. "
   ]
  },
  {
   "cell_type": "markdown",
   "metadata": {},
   "source": [
    "#### Q7"
   ]
  },
  {
   "cell_type": "markdown",
   "metadata": {},
   "source": [
    "![excel image](../assets/q7.png)"
   ]
  },
  {
   "cell_type": "markdown",
   "metadata": {},
   "source": [
    "The recombination rate is between 0 and 0.5 so the confidence interval for the recombination rate will be in this range. Here theta max is 0 because it is for theta = 0 that we have the maximum of the lod score. It means that the lower bound of the confidence interval will be equal to 0 and the intersection is the upper bound. We approximate it. \n",
    "\n",
    "Confidence interval for Marker 1 is ranging between $[0, 0.07]$ "
   ]
  },
  {
   "cell_type": "markdown",
   "metadata": {},
   "source": [
    "### a.7.  Linkage analyses with determination of maximum lodscore"
   ]
  },
  {
   "cell_type": "code",
   "execution_count": null,
   "metadata": {},
   "outputs": [
    {
     "data": {
      "text/plain": [
       "              M5        M7        M8         M12\n",
       "LOD:    6.005044  5.714132  5.255074  4.28823977\n",
       "t_max:  0.000000  0.000000  0.000000  0.04508497"
      ]
     },
     "metadata": {},
     "output_type": "display_data"
    }
   ],
   "source": [
    "lod(xdom, marker=c(5,7,8,12), theta='max')"
   ]
  },
  {
   "cell_type": "markdown",
   "metadata": {},
   "source": [
    "#### Q8"
   ]
  },
  {
   "cell_type": "markdown",
   "metadata": {},
   "source": [
    "Interpretation of the results:  \n",
    "\n",
    "For markers $M_5$, $M_7$ and $M_8$, the lod-score of theta max > 3 -> reject the null hypothesis, and $\\theta_{max}$ is 0 which means that the markers is very close to the disease gene.  \n",
    "\n",
    "For marker $M_{12}$, $\\theta_{max}$ is 0.045 with a lod score of $4.28\\gt3$, which is greater than 3, so we reject the null hypothesis and conclude that the most probable location of the disease gene is around 0.045 cM from this marker."
   ]
  },
  {
   "cell_type": "markdown",
   "metadata": {},
   "source": [
    "#### Q9"
   ]
  },
  {
   "cell_type": "code",
   "execution_count": null,
   "metadata": {},
   "outputs": [
    {
     "name": "stdout",
     "output_type": "stream",
     "text": [
      "max lod value for marker 1 is 7.6738 \n",
      "max lod value for marker 2 is 7.247411 \n",
      "max lod value for marker 3 is 4.762693 \n",
      "max lod value for marker 4 is 8.171219 \n",
      "max lod value for marker 5 is 6.005044 \n",
      "max lod value for marker 6 is 4.969872 \n",
      "max lod value for marker 7 is 5.714132 \n",
      "max lod value for marker 8 is 5.255074 \n",
      "max lod value for marker 9 is 4.253735 \n",
      "max lod value for marker 10 is 3.564322 \n",
      "max lod value for marker 11 is 3.570878 \n",
      "max lod value for marker 12 is 4.285454 \n",
      "max lod value for marker 13 is 2.385958 \n"
     ]
    }
   ],
   "source": [
    "## as.matrix(lod_values)\n",
    "for (i in 1:ncol(lod_values)){\n",
    "    max_lod=max(lod_values[,i])\n",
    "    cat('max lod value for marker',i,'is',max_lod,'\\n')\n",
    "}"
   ]
  },
  {
   "cell_type": "markdown",
   "metadata": {},
   "source": [
    "#### Q10"
   ]
  },
  {
   "cell_type": "markdown",
   "metadata": {},
   "source": [
    "Markers 1-10 all have the same pattern of lod scores relative to $\\theta$ values: The highest lod score is at $\\theta_0$ and the lowest at $\\theta_{0.5} (=0)$, with lod scores $\\gt3$, which means that the markers are at very close proximity to the disease gene."
   ]
  },
  {
   "cell_type": "markdown",
   "metadata": {},
   "source": [
    "### a.8. Linkage analyses by modifying marker allele frequencies"
   ]
  },
  {
   "cell_type": "code",
   "execution_count": null,
   "metadata": {},
   "outputs": [
    {
     "data": {
      "text/html": [
       "<table class=\"dataframe\">\n",
       "<caption>A data.frame: 9 × 1</caption>\n",
       "<thead>\n",
       "\t<tr><th></th><th scope=col>lod_values[, \"M5\"]</th></tr>\n",
       "\t<tr><th></th><th scope=col>&lt;dbl&gt;</th></tr>\n",
       "</thead>\n",
       "<tbody>\n",
       "\t<tr><th scope=row>0</th><td>6.0050443</td></tr>\n",
       "\t<tr><th scope=row>0.05</th><td>5.4606032</td></tr>\n",
       "\t<tr><th scope=row>0.1</th><td>4.8898188</td></tr>\n",
       "\t<tr><th scope=row>0.15</th><td>4.2903721</td></tr>\n",
       "\t<tr><th scope=row>0.2</th><td>3.6599709</td></tr>\n",
       "\t<tr><th scope=row>0.25</th><td>2.9968532</td></tr>\n",
       "\t<tr><th scope=row>0.3</th><td>2.3012371</td></tr>\n",
       "\t<tr><th scope=row>0.4</th><td>0.8643605</td></tr>\n",
       "\t<tr><th scope=row>0.5</th><td>0.0000000</td></tr>\n",
       "</tbody>\n",
       "</table>\n"
      ],
      "text/latex": [
       "A data.frame: 9 × 1\n",
       "\\begin{tabular}{r|l}\n",
       "  & lod\\_values{[}, \"M5\"{]}\\\\\n",
       "  & <dbl>\\\\\n",
       "\\hline\n",
       "\t0 & 6.0050443\\\\\n",
       "\t0.05 & 5.4606032\\\\\n",
       "\t0.1 & 4.8898188\\\\\n",
       "\t0.15 & 4.2903721\\\\\n",
       "\t0.2 & 3.6599709\\\\\n",
       "\t0.25 & 2.9968532\\\\\n",
       "\t0.3 & 2.3012371\\\\\n",
       "\t0.4 & 0.8643605\\\\\n",
       "\t0.5 & 0.0000000\\\\\n",
       "\\end{tabular}\n"
      ],
      "text/markdown": [
       "\n",
       "A data.frame: 9 × 1\n",
       "\n",
       "| <!--/--> | lod_values[, \"M5\"] &lt;dbl&gt; |\n",
       "|---|---|\n",
       "| 0 | 6.0050443 |\n",
       "| 0.05 | 5.4606032 |\n",
       "| 0.1 | 4.8898188 |\n",
       "| 0.15 | 4.2903721 |\n",
       "| 0.2 | 3.6599709 |\n",
       "| 0.25 | 2.9968532 |\n",
       "| 0.3 | 2.3012371 |\n",
       "| 0.4 | 0.8643605 |\n",
       "| 0.5 | 0.0000000 |\n",
       "\n"
      ],
      "text/plain": [
       "     lod_values[, \"M5\"]\n",
       "0    6.0050443         \n",
       "0.05 5.4606032         \n",
       "0.1  4.8898188         \n",
       "0.15 4.2903721         \n",
       "0.2  3.6599709         \n",
       "0.25 2.9968532         \n",
       "0.3  2.3012371         \n",
       "0.4  0.8643605         \n",
       "0.5  0.0000000         "
      ]
     },
     "metadata": {},
     "output_type": "display_data"
    }
   ],
   "source": [
    "## -- before when they were equifrequent\n",
    "as.data.frame(lod_values[,\"M5\"])"
   ]
  },
  {
   "cell_type": "code",
   "execution_count": null,
   "metadata": {},
   "outputs": [
    {
     "data": {
      "text/plain": [
       "                    M5\n",
       "theta=0:     6.1601384\n",
       "theta=0.05:  5.6089781\n",
       "theta=0.1:   5.0311016\n",
       "theta=0.15:  4.4242603\n",
       "theta=0.2:   3.7862270\n",
       "theta=0.25:  3.1152044\n",
       "theta=0.3:   2.4110015\n",
       "theta=0.4:   0.9454197\n",
       "theta=0.5:   0.0000000"
      ]
     },
     "metadata": {},
     "output_type": "display_data"
    }
   ],
   "source": [
    "## -- after modifying allele frequencies\n",
    "xdom5=modifyMarker(xdom,marker = 5, afreq = c(0.1, 0.1, 0.1, 0.7))\n",
    "lod(xdom5, marker=5, theta=c(0, 0.05, 0.1, 0.15, 0.2, 0.25, 0.3, 0.4, 0.5))"
   ]
  },
  {
   "cell_type": "markdown",
   "metadata": {},
   "source": [
    "#### Q11"
   ]
  },
  {
   "cell_type": "markdown",
   "metadata": {},
   "source": [
    "Results have been modified slightly in each, overall the same pattern (decreasing when increasing theta values) with only a small increase of lod values of when we changed the frequencies, and then reaching 0 when $\\theta=0.5$ \n",
    "\n",
    "This slight difference can be attributed to the incorporation of allele frequencies into the calculation due to the presence of founders (individuals without parents) and individuals with missing genotypes in the dataset. For these cases, all possible genotypes must be considered, making the likelihood computation more complex. The probabilities of these genotypes are calculated using the allele frequencies, with Hardy-Weinberg equilibrium applied to estimate the expected genotype frequencies. If the results had been identical, it would suggest the absence of founders with missing genotypes, eliminating the need to account for different genotypes."
   ]
  },
  {
   "cell_type": "markdown",
   "metadata": {},
   "source": [
    "### a.9.  Impact of misspecifying the genetic model"
   ]
  },
  {
   "cell_type": "code",
   "execution_count": null,
   "metadata": {},
   "outputs": [
    {
     "data": {
      "text/plain": [
       "                 M1         M2         M3         M4         M5         M6\n",
       "theta=0:  -11.52737  -20.34523  0.8394887  -20.80169  -11.46918  -16.24291\n",
       "                 M7         M8        M9        M10        M11        M12\n",
       "theta=0:  -6.483199  -3.089972  1.408298  -14.51178  -16.13149  -8.403986\n",
       "                M13\n",
       "theta=0:  -3.274896"
      ]
     },
     "metadata": {},
     "output_type": "display_data"
    }
   ],
   "source": [
    "xrec=setModel(x, model=2, penetrances=c(0.00001,0.00001, 1), dfreq=0.00001)\n",
    "lod(xrec)"
   ]
  },
  {
   "cell_type": "markdown",
   "metadata": {},
   "source": [
    "#### Q12"
   ]
  },
  {
   "cell_type": "markdown",
   "metadata": {},
   "source": [
    "Markers $M_1, M_2, M_4, M_5, M_6, M_7, M_8, M_{10}, M_{11}, M_{12}, M_{13}$  have a negative value $\\lt-2$ for $\\theta_{max}$, which means that the markers are far from the disease gene.\n",
    "\n",
    "Except for $M_3$ and $M_9$ which have a positive value however ranging between $-2\\lt lodscore\\lt3$ hence nothing can be concluded\n",
    "\n",
    "In this section we have changed the mode of inheritance from autosomal dominant to autosomal recessive, we can clearly see the differences in the results as in here we haven't concluded any marker that is in close proximity to the desiease gene, this is because the mode of inheritance changes the at risk genotypes which in return affect the calculation of the lod score\n",
    "\n",
    "This is the imortance of the disease model's influence, it's crucial to be near the true model.\n",
    "\n",
    "_The lod score is parametric because it's affected by genetic mode of the diseaese and the alellic frequencies_"
   ]
  },
  {
   "cell_type": "markdown",
   "metadata": {},
   "source": [
    "## b: Familial association analysis - TDT"
   ]
  },
  {
   "cell_type": "code",
   "execution_count": 18,
   "metadata": {},
   "outputs": [],
   "source": [
    "%./fbat.exe"
   ]
  },
  {
   "cell_type": "markdown",
   "metadata": {},
   "source": [
    "\n",
    "\n",
    "\n",
    "```text\n",
    "*******************************************************\n",
    "*                                                     *\n",
    "*     *********  * * *          *       *********     *\n",
    "*     *          *     *       * *          *         *\n",
    "*     *******    *  * *       *   *         *         *\n",
    "*     *          *     *     * *** *        *         *\n",
    "*     *          *     *    *       *       *         *\n",
    "*     *          * * *     *         *      *         *\n",
    "*                                                     *\n",
    "*          Xin Xu  C1999-2009       v2.0.4(beta1)      *\n",
    "*          Program for Population Genetics            *\n",
    "*          Harvard School of Public Health            *\n",
    "*                                                     *\n",
    "*******************************************************\n",
    "```"
   ]
  },
  {
   "cell_type": "markdown",
   "metadata": {},
   "source": [
    "```text\n",
    ">> log resfbat\n",
    "logging to file \"resfbat\" is on\n",
    ">> load fbat.ped\n",
    "read in: 6 markers from 651 pedigrees (652 nuclear families,2011 persons)\n",
    "```\n"
   ]
  },
  {
   "cell_type": "markdown",
   "metadata": {},
   "source": [
    "#### Q13"
   ]
  },
  {
   "cell_type": "markdown",
   "metadata": {},
   "source": [
    "There are:  \n",
    "\n",
    "* 652 nuclear families\n",
    "* 2011 persons i.e. $\\frac{2011}{652} \\approx 3$ individuals per family  \n",
    "* 6 markers"
   ]
  },
  {
   "cell_type": "markdown",
   "metadata": {},
   "source": [
    "```text\n",
    ">> fbat\n",
    "trait affection; offset 0.000; model additive; test bi-allelic; minsize 10; min_freq 0.000; p 1.000; maxcmh 1000\n",
    "\n",
    "Marker  Allele   afreq   fam#     S-E(S)      Var(S)       Z           P\n",
    "------------------------------------------------------------------------\n",
    "SNP2    1        0.636    409      3.500     138.750   0.297    0.766365\n",
    "SNP2    2        0.364    409     -3.500     138.750  -0.297    0.766365\n",
    "SNP3    1        0.370    402      2.000     140.500   0.169    0.866009\n",
    "SNP3    2        0.630    402     -2.000     140.500  -0.169    0.866009\n",
    "SNP4    1        0.403    425      5.000     148.500   0.410    0.681582\n",
    "SNP4    2        0.597    425     -5.000     148.500  -0.410    0.681582\n",
    "SNP5    1        0.626    393     -4.500     136.750  -0.385    0.700377\n",
    "SNP5    2        0.374    393      4.500     136.750   0.385    0.700377\n",
    "SNP6    1        0.212    283    -52.000      91.000  -5.451   5.01e-008\n",
    "SNP6    2        0.788    283     52.000      91.000   5.451   5.01e-008\n",
    "```"
   ]
  },
  {
   "cell_type": "markdown",
   "metadata": {},
   "source": [
    "#### Q14"
   ]
  },
  {
   "cell_type": "markdown",
   "metadata": {},
   "source": [
    "An informative family is a family where there exists at least one parent that is heterozygous. \n",
    "\n",
    "5 SNPs are present in the results, i.e., they have at least 10 informative families (lowest one is 283). But SNP 1 is not present because it must have had less than 10 informative families which is an insufficient number."
   ]
  },
  {
   "cell_type": "markdown",
   "metadata": {},
   "source": [
    "#### Q15"
   ]
  },
  {
   "cell_type": "markdown",
   "metadata": {},
   "source": [
    "![r2 ensembl](../assets/q15.png)"
   ]
  },
  {
   "cell_type": "markdown",
   "metadata": {},
   "source": [
    "#### Q16"
   ]
  },
  {
   "cell_type": "markdown",
   "metadata": {},
   "source": [
    "According to the results coming from `fbat`, SNP6 is in association with the disease, it's actually the only one in the table with a p-value less tahn 0.05, thus there is a significant association. It's either that SNP6 is the causal variant or is in linkage disequilibrium with the causal variant. \n",
    "Allele 2 is the at-risk allele that is more transmited from a heterozygous parent to a diseasee child, since the $S-E(S)\\gt0$ \n",
    "\n",
    "From Ensembl plot, $r^2$ is below threshold for all nearby markers, meaning that none of the markers are in linkage disequilibrium with the SNP of interest (SNP6) `rs76179836`, so we can conclude that it is the causal variant"
   ]
  },
  {
   "cell_type": "markdown",
   "metadata": {},
   "source": [
    "# II. Study of a multifactorial disease: rheumatoid arthritis"
   ]
  },
  {
   "cell_type": "markdown",
   "metadata": {},
   "source": [
    "## a. Genetic linkage analysis–affected sib-pairs method"
   ]
  },
  {
   "cell_type": "code",
   "execution_count": null,
   "metadata": {},
   "outputs": [],
   "source": [
    "%./pedstats.exe -d fam.dat -p fam.ped --ignoreMendelianErrors > stats_fam_MK"
   ]
  },
  {
   "cell_type": "markdown",
   "metadata": {},
   "source": [
    "#### Q17"
   ]
  },
  {
   "cell_type": "markdown",
   "metadata": {},
   "source": [
    "This generates output files, one of which is called stats_fam_MK (as we have named it by redirecting the output to a file called stats_fam_MK) which contains the results of the analysis. In it we can `cat stats_fam_MK` to see the results, we find the following:\n",
    "\n",
    "* number of families analyzed: 88\n",
    "* number of generations per family: 2 (100% of them are actually nuclear families)\n",
    "* average number of individuals per family: 6.5\n",
    "* total number of individuals: 572\n",
    "* total number of affected individuals: 453\n",
    "* number of genetic markers studied: 1089\n",
    "* the highest and lowest heterozygosity rates for the markers studied: \n",
    "    * highest: a348wh1/(AC)n marker with 99.6% \n",
    "    * lowest: 112yb4/(AC)n with 14.7%"
   ]
  },
  {
   "cell_type": "code",
   "execution_count": null,
   "metadata": {},
   "outputs": [],
   "source": [
    "%./merlin.exe -d fam.dat -p fam.ped -m fam.map --pairs --pdf > res_non_param"
   ]
  },
  {
   "cell_type": "markdown",
   "metadata": {},
   "source": [
    "#### Q18"
   ]
  },
  {
   "cell_type": "markdown",
   "metadata": {},
   "source": [
    "The non-parametric genetic linkage analysis that has been (NPL method) that has been performed is an equivalent of the lod-score and most importantly, share the same threshold for rejective the null hypothesis (i.e., when it's above 3, we reject the null hypothesis that states that there is no linkage)\n",
    "\n",
    "Hence, from the maps that we have gotten (23 maps for 23 chromosomes), we can state that there is linkage at spots where the estimated LOD score is above 3.\n",
    "\n",
    "* number of regions linked to RA (LOD score > 3): 2\n",
    "    * chromosome X 150cM \n",
    "    * chromosome X 175cM\n",
    "\n",
    "    None of the first 22 chromosomes actually reaches a LOD score of 3, but the last one does, with the positions at 150cM and ~175cM. It means that the disease gene is close to these markers, forming a particular M shape. Since the spot where the disease gene is usually non conclusive, this can explain why the LOD score is low in between these 2 peaks, hence the M shape. This means that the disease gene might between 150 and 175 cM (aroung 160cM) on the X chromosome (in the plot named 999 but as valiated from the .map file, it's the X chromosome)\n",
    "\n",
    "    ![LOD score chromsome X](../assets/chrX.png)\n",
    "\n",
    "* number of regions suggestive of RA: 1 (LOD score > 2.5 and < 3)\n",
    "    * chromosome 6 55cM  \n",
    "\n",
    "    ![chr6 region](../assets/chr6.png)\n",
    "\n",
    "    This might suggest that the disease gene is close to this marker in teh short arm of chromosome 6, around 55cM"
   ]
  },
  {
   "cell_type": "markdown",
   "metadata": {},
   "source": [
    "## b. Genome-wide association analysis"
   ]
  },
  {
   "cell_type": "code",
   "execution_count": 1,
   "metadata": {},
   "outputs": [
    {
     "name": "stdout",
     "output_type": "stream",
     "text": [
      "/mnt/g/my_stuff/masters/saclay/courses/M1/NGS/part_2/data/TP_DATA_PROG/II.a.Plink\n"
     ]
    }
   ],
   "source": [
    "%cd ../data/TP_DATA_PROG/II.a.Plink"
   ]
  },
  {
   "cell_type": "markdown",
   "metadata": {},
   "source": [
    "### b.1. A few quality controlsteps"
   ]
  },
  {
   "cell_type": "markdown",
   "metadata": {},
   "source": [
    "#### Q19"
   ]
  },
  {
   "cell_type": "markdown",
   "metadata": {},
   "source": [
    "The QC to consider:  \n",
    "\n",
    "* missing SNP, call rate greater than 95%  \n",
    "* missing individuals, call rate greater than 95% \n",
    "* minor allele frequency greater than 5% \n",
    "* Hardy-Weinberg equilibrium p-value greater than 0.001 \n",
    "* homogeneity of the population (PCA)"
   ]
  },
  {
   "cell_type": "markdown",
   "metadata": {},
   "source": [
    "First we shall start by removing missing data, i.e. individuals (rows) missing more than 5% as well as SNPs (cols) missing more than 5% (call rate for both is greater than 95%)"
   ]
  },
  {
   "cell_type": "markdown",
   "metadata": {},
   "source": [
    "For individuals:"
   ]
  },
  {
   "cell_type": "code",
   "execution_count": null,
   "metadata": {},
   "outputs": [],
   "source": [
    "%./plink.exe --file hapmap --mind 0.05 --make-bed --out Ind"
   ]
  },
  {
   "cell_type": "markdown",
   "metadata": {},
   "source": [
    "```text\n",
    "PLINK v1.90b5 32-bit (14 Nov 2017)             www.cog-genomics.org/plink/1.9/\n",
    "(C) 2005-2017 Shaun Purcell, Christopher Chang   GNU General Public License v3\n",
    "Logging to Ind.log.\n",
    "Options in effect:\n",
    "  --file hapmap\n",
    "  --make-bed\n",
    "  --mind 0.05\n",
    "  --out Ind\n",
    "\n",
    "8025 MB RAM detected; reserving 2047 MB for main workspace.\n",
    "Allocated 1535 MB successfully, after larger attempt(s) failed.\n",
    ".ped scan complete (for binary autoconversion).\n",
    "Performing single-pass .bed write (50971 variants, 89 people).\n",
    "--file: Ind-temporary.bed + Ind-temporary.bim + Ind-temporary.fam written.\n",
    "50971 variants loaded from .bim file.\n",
    "89 people (89 males, 0 females) loaded from .fam.\n",
    "89 phenotype values loaded from .fam.\n",
    "0 people removed due to missing genotype data (--mind).\n",
    "Using 1 thread (no multithreaded calculations invoked).\n",
    "Before main variant filters, 89 founders and 0 nonfounders present.\n",
    "Calculating allele frequencies... done.\n",
    "Total genotyping rate is 0.994134.\n",
    "50971 variants and 89 people pass filters and QC.\n",
    "Among remaining phenotypes, 44 are cases and 45 are controls.\n",
    "--make-bed to Ind.bed + Ind.bim + Ind.fam ... done.\n",
    "```"
   ]
  },
  {
   "cell_type": "markdown",
   "metadata": {},
   "source": [
    "Starting with 89 individuals (44 cases and 45 controls), we have removed 0 individuals with missing data, so we have maintained all individuals during this quality check step.\n",
    "\n",
    "Next SNP:"
   ]
  },
  {
   "cell_type": "code",
   "execution_count": 4,
   "metadata": {},
   "outputs": [],
   "source": [
    "%./plink.exe --bfile Ind --geno 0.05 --make-bed --out IndMk"
   ]
  },
  {
   "cell_type": "markdown",
   "metadata": {},
   "source": [
    "```text\n",
    "PLINK v1.90b5 32-bit (14 Nov 2017)             www.cog-genomics.org/plink/1.9/\n",
    "(C) 2005-2017 Shaun Purcell, Christopher Chang   GNU General Public License v3\n",
    "Logging to IndMk.log.\n",
    "Options in effect:\n",
    "  --bfile Ind\n",
    "  --geno 0.05\n",
    "  --make-bed\n",
    "  --out IndMk\n",
    "\n",
    "8025 MB RAM detected; reserving 2047 MB for main workspace.\n",
    "Allocated 1535 MB successfully, after larger attempt(s) failed.\n",
    "50971 variants loaded from .bim file.\n",
    "89 people (89 males, 0 females) loaded from .fam.\n",
    "89 phenotype values loaded from .fam.\n",
    "Using 1 thread (no multithreaded calculations invoked).\n",
    "Before main variant filters, 89 founders and 0 nonfounders present.\n",
    "Calculating allele frequencies... done.\n",
    "Total genotyping rate is 0.994134.\n",
    "1509 variants removed due to missing genotype data (--geno).\n",
    "49462 variants and 89 people pass filters and QC.\n",
    "Among remaining phenotypes, 44 are cases and 45 are controls.\n",
    "--make-bed to IndMk.bed + IndMk.bim + IndMk.fam ... done.\n",
    "```"
   ]
  },
  {
   "cell_type": "markdown",
   "metadata": {},
   "source": [
    "Starting from 50971 SNPs, we have removed 1509 SNPs with missing data, so we have maintained 49462 SNPs during this quality check step.  \n",
    "\n",
    "* raw data: `50971` variants  \n",
    "* variants that didnt pass SNP QC call rate $\\gt 95%$: `1509`  \n",
    "* variants that passed SNP QC: `49462`\n",
    "\n",
    "Next is filtration based on Minor Allel Frequency (MAF) lower than 5% as SNPs should be common enough to associate a causal variant with a disease (susceptibility genes are frequent)"
   ]
  },
  {
   "cell_type": "code",
   "execution_count": 5,
   "metadata": {},
   "outputs": [],
   "source": [
    "%./plink.exe --bfile IndMK --maf 0.05 --make-bed --out IndMkMAF"
   ]
  },
  {
   "cell_type": "markdown",
   "metadata": {},
   "source": [
    "```text\n",
    "PLINK v1.90b5 32-bit (14 Nov 2017)             www.cog-genomics.org/plink/1.9/\n",
    "(C) 2005-2017 Shaun Purcell, Christopher Chang   GNU General Public License v3\n",
    "Logging to IndMkMAF.log.\n",
    "Options in effect:\n",
    "  --bfile IndMK\n",
    "  --maf 0.05\n",
    "  --make-bed\n",
    "  --out IndMkMAF\n",
    "\n",
    "8025 MB RAM detected; reserving 2047 MB for main workspace.\n",
    "Allocated 1535 MB successfully, after larger attempt(s) failed.\n",
    "49462 variants loaded from .bim file.\n",
    "89 people (89 males, 0 females) loaded from .fam.\n",
    "89 phenotype values loaded from .fam.\n",
    "Using 1 thread (no multithreaded calculations invoked).\n",
    "Before main variant filters, 89 founders and 0 nonfounders present.\n",
    "Calculating allele frequencies... done.\n",
    "Total genotyping rate is 0.996817.\n",
    "14169 variants removed due to minor allele threshold(s)\n",
    "(--maf/--max-maf/--mac/--max-mac).\n",
    "35293 variants and 89 people pass filters and QC.\n",
    "Among remaining phenotypes, 44 are cases and 45 are controls.\n",
    "--make-bed to IndMkMAF.bed + IndMkMAF.bim + IndMkMAF.fam ... done.\n",
    "```"
   ]
  },
  {
   "cell_type": "markdown",
   "metadata": {},
   "source": [
    "From the previously filtered set of 49462 SNPs, we have removed 14169 SNPs with MAF lower than 5%, so we have maintained 35293 SNPs during this quality check step.\n",
    "\n",
    "* starting data: `49462` variants \n",
    "* variants that didnt pass MAF $\\gt 5%$: `14169` \n",
    "* variants that passed MAF QC: `35293`\n",
    "\n",
    "Next is Hardy-Weinberg equilibrium (HWE), the hypothesis here is that frequency of alleles is the expected frequency in a population, so conducting a $\\chi^2$ test for conformity is testing for the null hypothesis that the observed genotype frequencies are in HWE\n",
    "\n",
    "$$H_0 (HWE): p^2 + 2pq + q^2 = 1 $$\n"
   ]
  },
  {
   "cell_type": "code",
   "execution_count": 6,
   "metadata": {},
   "outputs": [],
   "source": [
    "%./plink.exe --bfile IndMKMAF --hwe 0.05 --hardy --make-bed --out IndMkMAFHWE"
   ]
  },
  {
   "cell_type": "markdown",
   "metadata": {},
   "source": [
    "```text\n",
    "PLINK v1.90b5 32-bit (14 Nov 2017)             www.cog-genomics.org/plink/1.9/\n",
    "(C) 2005-2017 Shaun Purcell, Christopher Chang   GNU General Public License v3\n",
    "Logging to IndMkMAFHWE.log.\n",
    "Options in effect:\n",
    "  --bfile IndMKMAF\n",
    "  --hardy\n",
    "  --hwe 0.05\n",
    "  --make-bed\n",
    "  --out IndMkMAFHWE\n",
    "\n",
    "8025 MB RAM detected; reserving 2047 MB for main workspace.\n",
    "Allocated 1535 MB successfully, after larger attempt(s) failed.\n",
    "35293 variants loaded from .bim file.\n",
    "89 people (89 males, 0 females) loaded from .fam.\n",
    "89 phenotype values loaded from .fam.\n",
    "Using 1 thread (no multithreaded calculations invoked).\n",
    "Before main variant filters, 89 founders and 0 nonfounders present.\n",
    "Calculating allele frequencies... done.\n",
    "Total genotyping rate is 0.996644.\n",
    "--hardy: Writing Hardy-Weinberg report (founders only) to IndMkMAFHWE.hwe ...\n",
    "done.\n",
    "--hwe: 945 variants removed due to Hardy-Weinberg exact test.\n",
    "34348 variants and 89 people pass filters and QC.\n",
    "Among remaining phenotypes, 44 are cases and 45 are controls.\n",
    "--make-bed to IndMkMAFHWE.bed + IndMkMAFHWE.bim + IndMkMAFHWE.fam ... done.\n",
    "```"
   ]
  },
  {
   "cell_type": "markdown",
   "metadata": {},
   "source": [
    "In here, we start with 35293 SNPs, and we have removed 945 SNPs that did not pass the HWE test, so we have 34348 SNPs that passes this filter.\n",
    "\n",
    "* starting data: `35293` variants  \n",
    "* variants that didnt pass HWE, with a p-value of 0.05: `945` (removed those with p-value $\\lt 0.05$, since rejecting HWE null hypothesis)  \n",
    "* variants that passed HWE QC: `34348`\n",
    "\n",
    "\n",
    "Overall this is a summary of the QC steps and stats:  \n",
    "\n",
    "| QC step | Starting data | Removed | Passed | Final data |\n",
    "|---------|---------------|---------|--------|------------|\n",
    "| Individuals, call rate $\\gt95%$ | 89 | 0 | 0 | 89 indiv | \n",
    "| SNPs, call rate $\\gt95%$ | 50971 | 1509 | 49462 | 49462 variants |\n",
    "| SNPs, MAF $\\gt5%$ | 49462 | 14169 | 35293 | 35293 variants | \n",
    "| SNPs, HWE p-value $\\gt0.05$ | 35293 | 945 | 34348 | 34348 variants |\n",
    "\n",
    "End filtered data:  \n",
    "\n",
    "* 89 individuals (rows)\n",
    "* 34348 SNPs (columns)\n"
   ]
  },
  {
   "cell_type": "markdown",
   "metadata": {},
   "source": [
    "#### b.2. Allelic and genotypic association tests"
   ]
  },
  {
   "cell_type": "code",
   "execution_count": 7,
   "metadata": {},
   "outputs": [],
   "source": [
    "%./plink.exe -bfile IndMkMAFHWE --assoc --ci .095 --out res_allelic"
   ]
  },
  {
   "cell_type": "markdown",
   "metadata": {},
   "source": [
    "```text\n",
    "PLINK v1.90b5 32-bit (14 Nov 2017)             www.cog-genomics.org/plink/1.9/\n",
    "(C) 2005-2017 Shaun Purcell, Christopher Chang   GNU General Public License v3\n",
    "Logging to res_allelic.log.\n",
    "Options in effect:\n",
    "  --assoc\n",
    "  --bfile IndMkMAFHWE\n",
    "  --ci .095\n",
    "  --out res_allelic\n",
    "\n",
    "8025 MB RAM detected; reserving 2047 MB for main workspace.\n",
    "Allocated 1535 MB successfully, after larger attempt(s) failed.\n",
    "34348 variants loaded from .bim file.\n",
    "89 people (89 males, 0 females) loaded from .fam.\n",
    "89 phenotype values loaded from .fam.\n",
    "Using 1 thread (no multithreaded calculations invoked).\n",
    "Before main variant filters, 89 founders and 0 nonfounders present.\n",
    "Calculating allele frequencies... done.\n",
    "Total genotyping rate is 0.996651.\n",
    "34348 variants and 89 people pass filters and QC.\n",
    "Among remaining phenotypes, 44 are cases and 45 are controls.\n",
    "Writing C/C --assoc report to res_allelic.assoc ... done.\n",
    "```\n",
    "\n",
    "This generates the results in a table form in one file `res_allelic.assoc`."
   ]
  },
  {
   "cell_type": "markdown",
   "metadata": {},
   "source": [
    "#### Q.20\n",
    "\n",
    "Since we have 34348 variants, we consequently have 34348 statistical tests to conduct ($\\chi^2$ tests for association). Thus it is cruical to account for the multiple testing problem, and this is done by adjusting the p-values. \n",
    "The bonferroni technique is a Family-Wise Error Rate (FWER) correction method, it is very conservative and it is calculated by dividing the significance level by the number of tests. Here we take the significance level $\\alpha=0.05$ and divide it by the number of tests $34348$ to get the new significance level $$\\alpha_{new} = \\frac{0.05}{34348} \\approx 1.45\\times10^{-6}$$\n",
    "\n",
    "Alternatively, the p-value is adjusted and the corrected value to test for significance becomes $1.45\\times10^{-6}$\n",
    "\n",
    "So this is to answer the question, that's the p-value considered to reject the null hypothesis for the allelic association test with Bonferroni correction.\n",
    "\n",
    "In fact, instead of comparing with it manually we can get the corrected p-values from the software and compare directly with the significance level 5%.\n",
    "\n",
    "In order to perform correction in PLINK, we need to run the latter command with an `--adjust` flag\n",
    "\n",
    "```bash\n",
    "plink --assoc --bfile IndMkMAFHWE --ci .095 --out res_allelic --adjust\n",
    "```\n",
    "\n",
    "This will generate a new file `res_allelic.assoc.adjusted` with the adjusted p-values from various MTC methods, and this is a sample of the output:\n",
    "\n",
    "| CHR | SNP        | UNADJ     | GC        | BONF   | HOLM   | SIDAK_SS | SIDAK_SD | FDR_BH | FDR_BY |\n",
    "|-----|------------|-----------|-----------|--------|--------|----------|----------|--------|--------|\n",
    "| 2   | rs2222162  | 5.918e-06 | 3.082e-05 | 0.2033 | 0.2033 | 0.184    | 0.184    | 0.05829 | 0.6424 |\n",
    "| 9   | rs10810856 | 7.723e-06 | 3.867e-05 | 0.2653 | 0.2653 | 0.233    | 0.233    | 0.05829 | 0.6424 |\n",
    "| 2   | rs4675607  | 8.05e-06  | 4.007e-05 | 0.2765 | 0.2765 | 0.2416   | 0.2416   | 0.05829 | 0.6424 |\n",
    "| 2   | rs4673349  | 8.485e-06 | 4.191e-05 | 0.2915 | 0.2914 | 0.2528   | 0.2528   | 0.05829 | 0.6424 |"
   ]
  },
  {
   "cell_type": "markdown",
   "metadata": {},
   "source": [
    "We want to see results before and after Bonferroni correction.\n",
    "What we care for is the 3rd column `UNADJ` (no correction applied) and the 5th column `BONF`: this corrected p-value can be directly compared to 0.05 to determine significance.\n",
    "\n",
    "To test, we will use the awk command to compare the column to the significance level"
   ]
  },
  {
   "cell_type": "markdown",
   "metadata": {},
   "source": [
    "\n",
    "\n",
    "Those with p-value less than 0.05 are considered significant, before correction:\n",
    "\n",
    "```bash\n",
    "$ awk '{if ($3>0.05) print $5}' res_allelic.assoc.adjusted | tail -\n",
    "n +2 | wc -l\n",
    "2289\n",
    "```\n",
    "\n",
    "(what this command does: it prints the 3rd col which is the unadjusted p-value from the adjusted result file, then filters those that are less than 0.05, removes header then counts them)\n",
    "\n",
    "\n",
    "after Bonferroni correction:\n",
    "\n",
    "```bash\n",
    "$ awk '{if ($5<=0.05) print $5}' res_allelic.assoc.adjusted | tail -n +2 | wc -l\n",
    "0\n",
    "```\n",
    "\n",
    "(what this command does: it prints the 5th col which is the bonferroni corrected p-value from the adjusted result file, then filters those that are less than 0.05, removes header then counts them)"
   ]
  },
  {
   "cell_type": "markdown",
   "metadata": {},
   "source": [
    "As we can see, none of the SNPs are significant after Bonferroni correction, which is expected since the corrected p-value is very very low (a very conservative correction method).  \n",
    "On the opposite, before correction, 2289 tests were rejected without applying any correction, i.e. 2289 SNPs were considered significant without accounting for multiple testing.\n",
    "\n",
    "___Reflection___: 2289 variants were thought to be causal susceptibility genes for RA, but after correction, none of them were significant. This shows the large number of false positives that can be generated when not accounting for multiple testing. And it shows as well how conservative the Bonferroni correction is."
   ]
  },
  {
   "cell_type": "markdown",
   "metadata": {},
   "source": [
    "#### Q21"
   ]
  },
  {
   "cell_type": "code",
   "execution_count": 12,
   "metadata": {},
   "outputs": [],
   "source": [
    "%./plink.exe -bfile IndMkMAFHWE --logistic --ci .095 --out res_gen"
   ]
  },
  {
   "cell_type": "markdown",
   "metadata": {},
   "source": [
    "In here the p-value is coming from logistic regression, from Wlad test for the coefficients $\\beta$ of the genotypes.\n",
    "\n",
    "This time we will won't use the `--adjust` flag, and we will use the corrected significance level for Bonferroni to compare with the one p-value obtained in results file `res_geno.assoc`. P-value is in column 12.\n",
    "\n",
    "\n",
    "Before correction, on significance level 0.05:\n",
    "```bash\n",
    "awk  '{if ($12<0.05) print $12}' res_geno.assoc.logistic | tail -\n",
    "n +2 | wc -l\n",
    "2032\n",
    "```\n",
    "\n",
    "After bonferroni on $\\alpha_{bonf} = 1.45\\times10^{-6}$:\n",
    "\n",
    "```bash\n",
    "awk  '{if ($12<1.45e-6) print $12}' res_geno.assoc.logistic | tail -n +2 | wc -l\n",
    "0\n",
    "```"
   ]
  },
  {
   "cell_type": "markdown",
   "metadata": {},
   "source": [
    "#### Q22"
   ]
  },
  {
   "cell_type": "markdown",
   "metadata": {},
   "source": [
    "We can notice similar result.\n",
    "\n",
    "In terms of corresction both the allelic and genotypic association tests are similar, the number of significant SNPs is reduced to 0 after Bonferroni correction, which is expected since the corrected p-value is very low.\n",
    "\n",
    "In terms on unadjusted values, in allelic association test, 2289 SNPs were significant, while in genotypic association test, 2032 SNPs were significant, which is a bit less than the allelic association test and relatively very close. \n",
    "\n",
    "This difference can be due to the fact:  \n",
    "\n",
    "* We're performing $\\chi^2$ test in allelic association test, while we're performing logistic regression in genotypic association test, and both tests are different in terms of the hypothesis they test hence might have different results.  \n",
    "* In genotypic test, we evaluate the association between different genotypes (e.g., AA, AG, GG) and the disease, allowing it to detect specific genotypes that are at risk. In contrast, an allelic test examines the association of individual alleles (e.g., A or G) with the trait and may not detect the same level of association as the genotypic test.  \n"
   ]
  },
  {
   "cell_type": "markdown",
   "metadata": {},
   "source": [
    "#### Q23"
   ]
  },
  {
   "cell_type": "markdown",
   "metadata": {},
   "source": [
    "***It's very important to note that the most important quality step is to test for the homogeneity of SNP data, this is done by PCA and should prove that case and controls are from the same population, and it's not mentioned here***\n",
    "\n",
    "This is crucial because if the cases and controls are from different populations, the results will be biased and the association tests will be invalid.\n",
    "\n",
    "To analyze **CHB and JPT together** (chinese and japenese populations) we have to make sure that both populations are in fact homogeneous, which is not carried in our quality control steps. For this purpose, having 2 populations in the same analysis wouldn't be recommended as they are different genetically, they are very likely to be different in terms of their neutral SNPs and this will lead to biased results."
   ]
  }
 ],
 "metadata": {
  "kernelspec": {
   "display_name": "base",
   "language": "python",
   "name": "python3"
  },
  "language_info": {
   "codemirror_mode": {
    "name": "ipython",
    "version": 3
   },
   "file_extension": ".py",
   "mimetype": "text/x-python",
   "name": "python",
   "nbconvert_exporter": "python",
   "pygments_lexer": "ipython3",
   "version": "3.12.2"
  }
 },
 "nbformat": 4,
 "nbformat_minor": 2
}
