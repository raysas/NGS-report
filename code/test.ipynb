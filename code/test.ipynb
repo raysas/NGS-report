{
 "cells": [
  {
   "cell_type": "code",
   "execution_count": null,
   "metadata": {
    "vscode": {
     "languageId": "r"
    }
   },
   "outputs": [],
   "source": [
    "setwd('../data/TP_DATA_PROG/')"
   ]
  },
  {
   "cell_type": "markdown",
   "metadata": {},
   "source": [
    "# a.1"
   ]
  },
  {
   "cell_type": "code",
   "execution_count": null,
   "metadata": {
    "vscode": {
     "languageId": "r"
    }
   },
   "outputs": [
    {
     "name": "stderr",
     "output_type": "stream",
     "text": [
      "\n",
      "PLEASE NOTE:\n",
      "Paramlink has been superseded by the `ped suite` packages (https://magnusdv.github.io/pedsuite/).\n",
      "It is maintained for legacy purposes only, and should not be used in new projects.\n",
      "\n",
      "\n"
     ]
    }
   ],
   "source": [
    "install.packages('paramlink')\n",
    "library(paramlink)"
   ]
  },
  {
   "cell_type": "code",
   "execution_count": 35,
   "metadata": {
    "vscode": {
     "languageId": "r"
    }
   },
   "outputs": [
    {
     "data": {
      "text/html": [
       "<table class=\"dataframe\">\n",
       "<caption>A data.frame: 5 × 10</caption>\n",
       "<thead>\n",
       "\t<tr><th></th><th scope=col>Family_number</th><th scope=col>Individual_number</th><th scope=col>Father_number</th><th scope=col>Mother_number</th><th scope=col>Sex</th><th scope=col>Disease_status</th><th scope=col>marker1_1</th><th scope=col>marker1_2</th><th scope=col>marker2_1</th><th scope=col>marker2_2</th></tr>\n",
       "\t<tr><th></th><th scope=col>&lt;int&gt;</th><th scope=col>&lt;int&gt;</th><th scope=col>&lt;int&gt;</th><th scope=col>&lt;int&gt;</th><th scope=col>&lt;int&gt;</th><th scope=col>&lt;int&gt;</th><th scope=col>&lt;int&gt;</th><th scope=col>&lt;int&gt;</th><th scope=col>&lt;int&gt;</th><th scope=col>&lt;int&gt;</th></tr>\n",
       "</thead>\n",
       "<tbody>\n",
       "\t<tr><th scope=row>1</th><td>1</td><td> 1</td><td>0</td><td>0</td><td>1</td><td>2</td><td>0</td><td>0</td><td>0</td><td> 0</td></tr>\n",
       "\t<tr><th scope=row>2</th><td>1</td><td> 2</td><td>0</td><td>0</td><td>2</td><td>1</td><td>0</td><td>0</td><td>0</td><td> 0</td></tr>\n",
       "\t<tr><th scope=row>3</th><td>1</td><td>21</td><td>0</td><td>0</td><td>2</td><td>1</td><td>0</td><td>0</td><td>0</td><td> 0</td></tr>\n",
       "\t<tr><th scope=row>4</th><td>1</td><td> 5</td><td>1</td><td>2</td><td>1</td><td>2</td><td>9</td><td>1</td><td>5</td><td>10</td></tr>\n",
       "\t<tr><th scope=row>5</th><td>1</td><td> 4</td><td>1</td><td>2</td><td>1</td><td>1</td><td>0</td><td>0</td><td>0</td><td> 0</td></tr>\n",
       "</tbody>\n",
       "</table>\n"
      ],
      "text/latex": [
       "A data.frame: 5 × 10\n",
       "\\begin{tabular}{r|llllllllll}\n",
       "  & Family\\_number & Individual\\_number & Father\\_number & Mother\\_number & Sex & Disease\\_status & marker1\\_1 & marker1\\_2 & marker2\\_1 & marker2\\_2\\\\\n",
       "  & <int> & <int> & <int> & <int> & <int> & <int> & <int> & <int> & <int> & <int>\\\\\n",
       "\\hline\n",
       "\t1 & 1 &  1 & 0 & 0 & 1 & 2 & 0 & 0 & 0 &  0\\\\\n",
       "\t2 & 1 &  2 & 0 & 0 & 2 & 1 & 0 & 0 & 0 &  0\\\\\n",
       "\t3 & 1 & 21 & 0 & 0 & 2 & 1 & 0 & 0 & 0 &  0\\\\\n",
       "\t4 & 1 &  5 & 1 & 2 & 1 & 2 & 9 & 1 & 5 & 10\\\\\n",
       "\t5 & 1 &  4 & 1 & 2 & 1 & 1 & 0 & 0 & 0 &  0\\\\\n",
       "\\end{tabular}\n"
      ],
      "text/markdown": [
       "\n",
       "A data.frame: 5 × 10\n",
       "\n",
       "| <!--/--> | Family_number &lt;int&gt; | Individual_number &lt;int&gt; | Father_number &lt;int&gt; | Mother_number &lt;int&gt; | Sex &lt;int&gt; | Disease_status &lt;int&gt; | marker1_1 &lt;int&gt; | marker1_2 &lt;int&gt; | marker2_1 &lt;int&gt; | marker2_2 &lt;int&gt; |\n",
       "|---|---|---|---|---|---|---|---|---|---|---|\n",
       "| 1 | 1 |  1 | 0 | 0 | 1 | 2 | 0 | 0 | 0 |  0 |\n",
       "| 2 | 1 |  2 | 0 | 0 | 2 | 1 | 0 | 0 | 0 |  0 |\n",
       "| 3 | 1 | 21 | 0 | 0 | 2 | 1 | 0 | 0 | 0 |  0 |\n",
       "| 4 | 1 |  5 | 1 | 2 | 1 | 2 | 9 | 1 | 5 | 10 |\n",
       "| 5 | 1 |  4 | 1 | 2 | 1 | 1 | 0 | 0 | 0 |  0 |\n",
       "\n"
      ],
      "text/plain": [
       "  Family_number Individual_number Father_number Mother_number Sex\n",
       "1 1              1                0             0             1  \n",
       "2 1              2                0             0             2  \n",
       "3 1             21                0             0             2  \n",
       "4 1              5                1             2             1  \n",
       "5 1              4                1             2             1  \n",
       "  Disease_status marker1_1 marker1_2 marker2_1 marker2_2\n",
       "1 2              0         0         0          0       \n",
       "2 1              0         0         0          0       \n",
       "3 1              0         0         0          0       \n",
       "4 2              9         1         5         10       \n",
       "5 1              0         0         0          0       "
      ]
     },
     "metadata": {},
     "output_type": "display_data"
    }
   ],
   "source": [
    "cols<-c('Family_number','Individual_number','Father_number','Mother_number', 'Sex', 'Disease_status','marker1_1','marker1_2','marker2_1','marker2_2','marker3_1','marker3_2','marker4_1','marker4_2','marker5_1','marker5_2','marker6_1','marker6_2','marker7_1','marker7_2','marker8_1','marker8_2','marker9_1','marker9_2','marker10_1','marker10_2','marker11_1','marker11_2','marker12_1','marker12_2','marker13_1','marker13_2')\n",
    "\n",
    "fam<-read.table('I.a.Paramlink/fam.txt')\n",
    "colnames(fam)<-cols\n",
    "fam[1:5,1:10]"
   ]
  }
 ],
 "metadata": {
  "kernelspec": {
   "display_name": "R",
   "language": "R",
   "name": "ir"
  },
  "language_info": {
   "codemirror_mode": "r",
   "file_extension": ".r",
   "mimetype": "text/x-r-source",
   "name": "R",
   "pygments_lexer": "r",
   "version": "4.4.2"
  }
 },
 "nbformat": 4,
 "nbformat_minor": 2
}
