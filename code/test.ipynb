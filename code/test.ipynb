{
 "cells": [
  {
   "cell_type": "code",
   "execution_count": 2,
   "metadata": {
    "vscode": {
     "languageId": "r"
    }
   },
   "outputs": [],
   "source": [
    "setwd('../data/TP_DATA_PROG/')"
   ]
  },
  {
   "cell_type": "markdown",
   "metadata": {},
   "source": [
    "# I. Study of a monogenic disease: Clouston's disease"
   ]
  },
  {
   "cell_type": "markdown",
   "metadata": {},
   "source": [
    "## a: Genetic linkage analysis - lodscore method"
   ]
  },
  {
   "cell_type": "markdown",
   "metadata": {},
   "source": [
    "### a.1. Install the paramlink package and call the library"
   ]
  },
  {
   "cell_type": "code",
   "execution_count": 3,
   "metadata": {
    "vscode": {
     "languageId": "r"
    }
   },
   "outputs": [
    {
     "name": "stderr",
     "output_type": "stream",
     "text": [
      "Updating HTML index of packages in '.Library'\n",
      "\n",
      "Making 'packages.html' ...\n",
      " done\n",
      "\n",
      "\n",
      "PLEASE NOTE:\n",
      "Paramlink has been superseded by the `ped suite` packages (https://magnusdv.github.io/pedsuite/).\n",
      "It is maintained for legacy purposes only, and should not be used in new projects.\n",
      "\n",
      "\n"
     ]
    }
   ],
   "source": [
    "install.packages('paramlink')\n",
    "library(paramlink)"
   ]
  },
  {
   "cell_type": "markdown",
   "metadata": {},
   "source": [
    "### a.2. Read and view the data file"
   ]
  },
  {
   "cell_type": "code",
   "execution_count": null,
   "metadata": {
    "vscode": {
     "languageId": "r"
    }
   },
   "outputs": [
    {
     "data": {
      "text/html": [
       "<table class=\"dataframe\">\n",
       "<caption>A data.frame: 5 × 10</caption>\n",
       "<thead>\n",
       "\t<tr><th></th><th scope=col>Family_number</th><th scope=col>Individual_number</th><th scope=col>Father_number</th><th scope=col>Mother_number</th><th scope=col>Sex</th><th scope=col>Disease_status</th><th scope=col>marker1_1</th><th scope=col>marker1_2</th><th scope=col>marker2_1</th><th scope=col>marker2_2</th></tr>\n",
       "\t<tr><th></th><th scope=col>&lt;int&gt;</th><th scope=col>&lt;int&gt;</th><th scope=col>&lt;int&gt;</th><th scope=col>&lt;int&gt;</th><th scope=col>&lt;int&gt;</th><th scope=col>&lt;int&gt;</th><th scope=col>&lt;int&gt;</th><th scope=col>&lt;int&gt;</th><th scope=col>&lt;int&gt;</th><th scope=col>&lt;int&gt;</th></tr>\n",
       "</thead>\n",
       "<tbody>\n",
       "\t<tr><th scope=row>1</th><td>1</td><td> 1</td><td>0</td><td>0</td><td>1</td><td>2</td><td>0</td><td>0</td><td>0</td><td> 0</td></tr>\n",
       "\t<tr><th scope=row>2</th><td>1</td><td> 2</td><td>0</td><td>0</td><td>2</td><td>1</td><td>0</td><td>0</td><td>0</td><td> 0</td></tr>\n",
       "\t<tr><th scope=row>3</th><td>1</td><td>21</td><td>0</td><td>0</td><td>2</td><td>1</td><td>0</td><td>0</td><td>0</td><td> 0</td></tr>\n",
       "\t<tr><th scope=row>4</th><td>1</td><td> 5</td><td>1</td><td>2</td><td>1</td><td>2</td><td>9</td><td>1</td><td>5</td><td>10</td></tr>\n",
       "\t<tr><th scope=row>5</th><td>1</td><td> 4</td><td>1</td><td>2</td><td>1</td><td>1</td><td>0</td><td>0</td><td>0</td><td> 0</td></tr>\n",
       "</tbody>\n",
       "</table>\n"
      ],
      "text/latex": [
       "A data.frame: 5 × 10\n",
       "\\begin{tabular}{r|llllllllll}\n",
       "  & Family\\_number & Individual\\_number & Father\\_number & Mother\\_number & Sex & Disease\\_status & marker1\\_1 & marker1\\_2 & marker2\\_1 & marker2\\_2\\\\\n",
       "  & <int> & <int> & <int> & <int> & <int> & <int> & <int> & <int> & <int> & <int>\\\\\n",
       "\\hline\n",
       "\t1 & 1 &  1 & 0 & 0 & 1 & 2 & 0 & 0 & 0 &  0\\\\\n",
       "\t2 & 1 &  2 & 0 & 0 & 2 & 1 & 0 & 0 & 0 &  0\\\\\n",
       "\t3 & 1 & 21 & 0 & 0 & 2 & 1 & 0 & 0 & 0 &  0\\\\\n",
       "\t4 & 1 &  5 & 1 & 2 & 1 & 2 & 9 & 1 & 5 & 10\\\\\n",
       "\t5 & 1 &  4 & 1 & 2 & 1 & 1 & 0 & 0 & 0 &  0\\\\\n",
       "\\end{tabular}\n"
      ],
      "text/markdown": [
       "\n",
       "A data.frame: 5 × 10\n",
       "\n",
       "| <!--/--> | Family_number &lt;int&gt; | Individual_number &lt;int&gt; | Father_number &lt;int&gt; | Mother_number &lt;int&gt; | Sex &lt;int&gt; | Disease_status &lt;int&gt; | marker1_1 &lt;int&gt; | marker1_2 &lt;int&gt; | marker2_1 &lt;int&gt; | marker2_2 &lt;int&gt; |\n",
       "|---|---|---|---|---|---|---|---|---|---|---|\n",
       "| 1 | 1 |  1 | 0 | 0 | 1 | 2 | 0 | 0 | 0 |  0 |\n",
       "| 2 | 1 |  2 | 0 | 0 | 2 | 1 | 0 | 0 | 0 |  0 |\n",
       "| 3 | 1 | 21 | 0 | 0 | 2 | 1 | 0 | 0 | 0 |  0 |\n",
       "| 4 | 1 |  5 | 1 | 2 | 1 | 2 | 9 | 1 | 5 | 10 |\n",
       "| 5 | 1 |  4 | 1 | 2 | 1 | 1 | 0 | 0 | 0 |  0 |\n",
       "\n"
      ],
      "text/plain": [
       "  Family_number Individual_number Father_number Mother_number Sex\n",
       "1 1              1                0             0             1  \n",
       "2 1              2                0             0             2  \n",
       "3 1             21                0             0             2  \n",
       "4 1              5                1             2             1  \n",
       "5 1              4                1             2             1  \n",
       "  Disease_status marker1_1 marker1_2 marker2_1 marker2_2\n",
       "1 2              0         0         0          0       \n",
       "2 1              0         0         0          0       \n",
       "3 1              0         0         0          0       \n",
       "4 2              9         1         5         10       \n",
       "5 1              0         0         0          0       "
      ]
     },
     "metadata": {},
     "output_type": "display_data"
    }
   ],
   "source": [
    "cols<-c('Family_number','Individual_number','Father_number','Mother_number', 'Sex', 'Disease_status','marker1_1','marker1_2','marker2_1','marker2_2','marker3_1','marker3_2','marker4_1','marker4_2','marker5_1','marker5_2','marker6_1','marker6_2','marker7_1','marker7_2','marker8_1','marker8_2','marker9_1','marker9_2','marker10_1','marker10_2','marker11_1','marker11_2','marker12_1','marker12_2','marker13_1','marker13_2')\n",
    "\n",
    "fam<-read.table('I.a.Paramlink/fam.txt')\n",
    "colnames(fam)<-cols\n",
    "fam[1:5,1:10]"
   ]
  },
  {
   "cell_type": "markdown",
   "metadata": {},
   "source": [
    "#### Q1:\n",
    "\n",
    "genotype of the first marker of the individual of id 5"
   ]
  },
  {
   "cell_type": "code",
   "execution_count": null,
   "metadata": {
    "vscode": {
     "languageId": "r"
    }
   },
   "outputs": [
    {
     "name": "stdout",
     "output_type": "stream",
     "text": [
      "9 1"
     ]
    }
   ],
   "source": [
    "for (row in 1:nrow(fam)){\n",
    "  if (fam[row,'Individual_number']==5){\n",
    "    cat(fam[row,]$marker1_1,fam[row,]$marker1_2)\n",
    "  }\n",
    "}"
   ]
  },
  {
   "cell_type": "markdown",
   "metadata": {},
   "source": [
    "The genotype of the individual 5 is 9/1"
   ]
  },
  {
   "cell_type": "markdown",
   "metadata": {},
   "source": [
    "### a.3. Data transformation for linkage analysis and descriptive statistics"
   ]
  },
  {
   "cell_type": "code",
   "execution_count": null,
   "metadata": {
    "vscode": {
     "languageId": "r"
    }
   },
   "outputs": [
    {
     "name": "stdout",
     "output_type": "stream",
     "text": [
      "Family ID: 1.\n",
      "47 individuals.\n",
      "22 affected, 25 non-affected.\n",
      "10 nuclear subfamilies.\n",
      "13 markers.\n",
      "\n"
     ]
    }
   ],
   "source": [
    "x=linkdat(fam)"
   ]
  },
  {
   "cell_type": "markdown",
   "metadata": {},
   "source": [
    "#### Q2:\n"
   ]
  },
  {
   "cell_type": "code",
   "execution_count": 7,
   "metadata": {
    "vscode": {
     "languageId": "r"
    }
   },
   "outputs": [
    {
     "data": {
      "text/html": [
       "<style>\n",
       ".list-inline {list-style: none; margin:0; padding: 0}\n",
       ".list-inline>li {display: inline-block}\n",
       ".list-inline>li:not(:last-child)::after {content: \"\\00b7\"; padding: 0 .5ex}\n",
       "</style>\n",
       "<ol class=list-inline><li>1</li><li>1</li><li>1</li><li>1</li><li>1</li><li>1</li><li>1</li><li>1</li><li>1</li><li>1</li><li>1</li><li>1</li><li>1</li><li>1</li><li>1</li><li>1</li><li>1</li><li>1</li><li>1</li><li>1</li><li>1</li><li>1</li><li>1</li><li>1</li><li>1</li><li>1</li><li>1</li><li>1</li><li>1</li><li>1</li><li>1</li><li>1</li><li>1</li><li>1</li><li>1</li><li>1</li><li>1</li><li>1</li><li>1</li><li>1</li><li>1</li><li>1</li><li>1</li><li>1</li><li>1</li><li>1</li><li>1</li></ol>\n"
      ],
      "text/latex": [
       "\\begin{enumerate*}\n",
       "\\item 1\n",
       "\\item 1\n",
       "\\item 1\n",
       "\\item 1\n",
       "\\item 1\n",
       "\\item 1\n",
       "\\item 1\n",
       "\\item 1\n",
       "\\item 1\n",
       "\\item 1\n",
       "\\item 1\n",
       "\\item 1\n",
       "\\item 1\n",
       "\\item 1\n",
       "\\item 1\n",
       "\\item 1\n",
       "\\item 1\n",
       "\\item 1\n",
       "\\item 1\n",
       "\\item 1\n",
       "\\item 1\n",
       "\\item 1\n",
       "\\item 1\n",
       "\\item 1\n",
       "\\item 1\n",
       "\\item 1\n",
       "\\item 1\n",
       "\\item 1\n",
       "\\item 1\n",
       "\\item 1\n",
       "\\item 1\n",
       "\\item 1\n",
       "\\item 1\n",
       "\\item 1\n",
       "\\item 1\n",
       "\\item 1\n",
       "\\item 1\n",
       "\\item 1\n",
       "\\item 1\n",
       "\\item 1\n",
       "\\item 1\n",
       "\\item 1\n",
       "\\item 1\n",
       "\\item 1\n",
       "\\item 1\n",
       "\\item 1\n",
       "\\item 1\n",
       "\\end{enumerate*}\n"
      ],
      "text/markdown": [
       "1. 1\n",
       "2. 1\n",
       "3. 1\n",
       "4. 1\n",
       "5. 1\n",
       "6. 1\n",
       "7. 1\n",
       "8. 1\n",
       "9. 1\n",
       "10. 1\n",
       "11. 1\n",
       "12. 1\n",
       "13. 1\n",
       "14. 1\n",
       "15. 1\n",
       "16. 1\n",
       "17. 1\n",
       "18. 1\n",
       "19. 1\n",
       "20. 1\n",
       "21. 1\n",
       "22. 1\n",
       "23. 1\n",
       "24. 1\n",
       "25. 1\n",
       "26. 1\n",
       "27. 1\n",
       "28. 1\n",
       "29. 1\n",
       "30. 1\n",
       "31. 1\n",
       "32. 1\n",
       "33. 1\n",
       "34. 1\n",
       "35. 1\n",
       "36. 1\n",
       "37. 1\n",
       "38. 1\n",
       "39. 1\n",
       "40. 1\n",
       "41. 1\n",
       "42. 1\n",
       "43. 1\n",
       "44. 1\n",
       "45. 1\n",
       "46. 1\n",
       "47. 1\n",
       "\n",
       "\n"
      ],
      "text/plain": [
       " [1] 1 1 1 1 1 1 1 1 1 1 1 1 1 1 1 1 1 1 1 1 1 1 1 1 1 1 1 1 1 1 1 1 1 1 1 1 1 1\n",
       "[39] 1 1 1 1 1 1 1 1 1"
      ]
     },
     "metadata": {},
     "output_type": "display_data"
    }
   ],
   "source": [
    "## count the number of families in family number of fam\n",
    "fam$Family_number"
   ]
  },
  {
   "cell_type": "markdown",
   "metadata": {},
   "source": [
    "There is 1 family in the dataset"
   ]
  },
  {
   "cell_type": "code",
   "execution_count": null,
   "metadata": {
    "vscode": {
     "languageId": "r"
    }
   },
   "outputs": [
    {
     "data": {
      "text/html": [
       "'affected indiv:25'"
      ],
      "text/latex": [
       "'affected indiv:25'"
      ],
      "text/markdown": [
       "'affected indiv:25'"
      ],
      "text/plain": [
       "[1] \"affected indiv:25\""
      ]
     },
     "metadata": {},
     "output_type": "display_data"
    },
    {
     "data": {
      "text/html": [
       "'unaffected indiv:22'"
      ],
      "text/latex": [
       "'unaffected indiv:22'"
      ],
      "text/markdown": [
       "'unaffected indiv:22'"
      ],
      "text/plain": [
       "[1] \"unaffected indiv:22\""
      ]
     },
     "metadata": {},
     "output_type": "display_data"
    }
   ],
   "source": [
    "affected_indiv<-c()\n",
    "unaffected_indiv<-c()\n",
    "\n",
    "for (i in 1:nrow(fam)){\n",
    "  if (fam[i,'Disease_status']==1){\n",
    "    affected_indiv<-c(affected_indiv,fam[i,'Individual_number'])\n",
    "  } else {\n",
    "    unaffected_indiv<-c(unaffected_indiv,fam[i,'Individual_number'])\n",
    "  }\n",
    "}\n",
    "\n",
    "paste0('affected indiv:',length(affected_indiv))\n",
    "paste0('unaffected indiv:',length(unaffected_indiv))"
   ]
  },
  {
   "cell_type": "markdown",
   "metadata": {},
   "source": [
    "There is: \n",
    "\n",
    "* 25 affected  \n",
    "* 22 unaffected"
   ]
  },
  {
   "cell_type": "markdown",
   "metadata": {},
   "source": [
    "13 markers are analyzed"
   ]
  },
  {
   "cell_type": "markdown",
   "metadata": {},
   "source": [
    "<!-- \n",
    "1 family with 10 nuclear subfamilies.  \n",
    "47 individuals: 22 affected, 25 non-affected.  \n",
    "13 markers analyzed -->"
   ]
  },
  {
   "cell_type": "markdown",
   "metadata": {},
   "source": [
    "#### Q3:"
   ]
  },
  {
   "cell_type": "code",
   "execution_count": null,
   "metadata": {
    "vscode": {
     "languageId": "r"
    }
   },
   "outputs": [
    {
     "data": {
      "text/plain": [
       "   ID FID MID SEX AFF  V1   V2  V3  V4  V5\n",
       "1   1   0   0   1   2 -/-  -/- -/- -/- -/-\n",
       "2   2   0   0   2   1 -/-  -/- -/- -/- -/-\n",
       "3  21   0   0   2   1 -/-  -/- -/- -/- -/-\n",
       "4   5   1   2   1   2 9/1 5/10 4/2 2/3 3/2\n",
       "5   4   1   2   1   1 -/-  -/- -/- -/- -/-\n",
       "6   3   1   2   1   2 -/-  -/- -/- -/- -/-\n",
       "7   6   0   0   2   1 -/-  -/- -/- -/- -/-\n",
       "8  36   0   0   2   1 3/9  6/8 4/4 6/5 1/2\n",
       "9  26   5  21   1   2 9/2  5/6 4/2 2/3 3/2\n",
       "10 25   5  21   2   1 1/2 10/6 2/2 3/3 2/2\n",
       "11 23   5  21   2   2 9/2  5/5 4/4 2/4 3/3\n",
       "12 30   0   0   1   1 -/-  -/- -/- -/- -/-\n",
       "13 22   5  21   2   2 9/2  5/5 4/4 2/4 3/3\n",
       "14 27   0   0   1   1 1/1  2/9 3/4 3/4 3/3\n",
       "15 24   5  21   2   2 9/2  5/6 4/2 2/3 3/2\n",
       "16 32   0   0   1   1 2/2  9/3 4/4 2/5 3/4\n",
       "17 44  26  36   2   2 9/3  5/6 4/4 2/6 3/1\n",
       "18 43  26  36   2   2 9/9  5/8 4/4 2/5 3/2\n",
       "19 42  26  36   2   1 -/-  -/- -/- -/- -/-\n",
       "20 41  26  36   1   2 9/9  5/8 4/4 2/5 3/2\n",
       "21 40  26  36   2   1 3/2  6/6 4/2 6/3 1/2\n",
       "22 39  26  36   1   1 3/2  6/6 4/2 6/3 1/2\n",
       "23 38  26  36   1   2 9/3  5/6 4/4 2/6 3/1\n",
       "24 37  26  36   2   1 3/2  6/6 4/2 6/3 1/2\n",
       "25 31  30  23   1   1 2/9  5/9 4/4 4/3 3/3\n",
       "26 29  27  22   1   1 1/2  9/5 4/4 4/4 3/3\n",
       "27 28  27  22   2   2 9/1  5/2 4/3 2/3 3/3\n",
       "28 35  32  24   1   2 9/2  5/3 4/4 2/5 3/4\n",
       "29 34  32  24   1   2 9/2  5/9 4/4 2/2 3/3\n",
       "30 33  32  24   2   2 9/2  5/3 4/4 2/5 3/4\n",
       "31 14   0   0   1   1 1/2 3/10 4/4 4/4 3/3\n",
       "32  7   3   6   2   2 9/1  5/6 4/6 2/4 3/2\n",
       "33  8   3   6   1   1 -/-  -/- -/- -/- -/-\n",
       "34  9   3   6   2   1 1/4  6/6 6/4 4/6 2/2\n",
       "35 10   3   6   1   1 -/-  -/- -/- -/- -/-\n",
       "36 11   3   6   1   1 -/-  -/- -/- -/- -/-\n",
       "37 12   3   6   1   1 1/4  6/6 6/4 4/6 2/2\n",
       "38 13   3   6   2   2 9/1  5/6 4/6 2/4 3/2\n",
       "39 18   0   0   1   1 5/1  9/5 2/7 6/6 2/2\n",
       "40 15  14   7   2   2 9/2 5/10 4/4 2/4 3/3\n",
       "41 16  14   7   2   1 1/1  6/3 6/4 4/4 2/3\n",
       "42 17  14   7   1   2 -/-  -/- -/- -/- -/-\n",
       "43 19  18  15   1   2 9/5  5/9 4/2 2/6 3/2\n",
       "44 20  18  15   2   2 9/1  5/9 4/2 2/6 3/2\n",
       "45 47   0   0   1   1 -/-  -/- -/- -/- -/-\n",
       "46 46  47  13   2   1 1/8  6/8 6/3 4/5 2/2\n",
       "47 45  47  13   2   2 9/8  5/5 4/4 2/7 3/3\n",
       "\n",
       "Only first 5 markers are shown. Use option 'markers=' to print specified markers."
      ]
     },
     "metadata": {},
     "output_type": "display_data"
    }
   ],
   "source": [
    "x"
   ]
  },
  {
   "cell_type": "markdown",
   "metadata": {},
   "source": [
    "They have taken each 2 markers and transformed them into one column of format `allele1/allele2` $\\iff$ representing the genotype"
   ]
  },
  {
   "cell_type": "markdown",
   "metadata": {},
   "source": [
    "#### Q4"
   ]
  },
  {
   "cell_type": "code",
   "execution_count": null,
   "metadata": {
    "vscode": {
     "languageId": "r"
    }
   },
   "outputs": [
    {
     "name": "stdout",
     "output_type": "stream",
     "text": [
      "Pedigree:\n",
      "---------\n",
      "47 individuals\n",
      "11 founders, 36 nonfounders; bit size = 61 \n",
      "10 nuclear subfamilies \n",
      "22 affected by disease, 25 unaffected, 0 with unknown affection status\n",
      "\n",
      "Marker data:\n",
      "------------\n",
      "13 markers in total\n",
      "13 individuals with no available genotypes: 1, 2, 21, 4, 3, 6, 30, 42, 8, 10, 11, 17, 47 \n",
      "0 % missing alleles (excluding ungenotyped individuals)\n",
      "\n",
      "Chromosome distribution of markers:\n",
      " chromosome unknown: 13 markers\n",
      "\n",
      "Allele number distribution:\n",
      " 3 alleles: 1 marker\n",
      " 4 alleles: 4 markers\n",
      " 5 alleles: 2 markers\n",
      " 6 alleles: 2 markers\n",
      " 7 alleles: 4 markers\n",
      "\n",
      "Model parameters:\n",
      "-----------------\n",
      "No model parameters set\n"
     ]
    }
   ],
   "source": [
    "summary(x)"
   ]
  },
  {
   "cell_type": "markdown",
   "metadata": {
    "vscode": {
     "languageId": "r"
    }
   },
   "source": [
    "There is: \n",
    "\n",
    "* 11 founder individuals  \n",
    "* 13 with unknown genotypes  \n",
    "* 4 markers with 7 alleles"
   ]
  },
  {
   "cell_type": "markdown",
   "metadata": {},
   "source": [
    "### a.4. Family tree drawing for 1st marker"
   ]
  },
  {
   "cell_type": "code",
   "execution_count": null,
   "metadata": {
    "vscode": {
     "languageId": "r"
    }
   },
   "outputs": [
    {
     "data": {
      "image/png": "[encoded data removed]",
      "text/plain": [
       "plot without title"
      ]
     },
     "metadata": {
      "image/png": {
       "height": 420,
       "width": 420
      }
     },
     "output_type": "display_data"
    }
   ],
   "source": [
    "plot(x, marker=1)"
   ]
  },
  {
   "cell_type": "markdown",
   "metadata": {},
   "source": [
    "#### Q5:"
   ]
  },
  {
   "cell_type": "markdown",
   "metadata": {},
   "source": [
    "For indiv 15,16 and 17 repsectively:  \n",
    "\n",
    "* 9/2  \n",
    "* 1/1\n",
    "* missing (-/-)"
   ]
  },
  {
   "cell_type": "markdown",
   "metadata": {},
   "source": [
    "### a.5. Definition of the genetic model to be considered for linkage analyses"
   ]
  },
  {
   "cell_type": "markdown",
   "metadata": {
    "vscode": {
     "languageId": "r"
    }
   },
   "source": [
    "Here `Dd` and `DD` are the at-risk genotypes, since it's autosomal dominant and `d` is the deleterious allele (so dominant allele)"
   ]
  },
  {
   "cell_type": "code",
   "execution_count": 12,
   "metadata": {
    "vscode": {
     "languageId": "r"
    }
   },
   "outputs": [],
   "source": [
    "xdom=setModel(x, model=1, penetrances = c(0.00001,1,1), dfreq=0.00001)"
   ]
  },
  {
   "cell_type": "markdown",
   "metadata": {},
   "source": [
    "Here we have $Phenocopy=P(affected/DD) = 0.00001$  "
   ]
  },
  {
   "cell_type": "markdown",
   "metadata": {},
   "source": [
    "### a.6. Linkage analyses with lodscore calculation for given theta values"
   ]
  },
  {
   "cell_type": "code",
   "execution_count": 13,
   "metadata": {
    "vscode": {
     "languageId": "r"
    }
   },
   "outputs": [],
   "source": [
    "lod_values=lod(xdom, theta=c(0,0.05,0.1,0.15,0.2,0.25,0.3,0.4,0.5))"
   ]
  },
  {
   "cell_type": "code",
   "execution_count": null,
   "metadata": {
    "vscode": {
     "languageId": "r"
    }
   },
   "outputs": [
    {
     "data": {
      "text/plain": [
       "                   M1        M2        M3        M4         M5        M6\n",
       "theta=0:     7.673800  7.247411  4.762693  8.171219  6.0050443  4.969872\n",
       "theta=0.05:  7.035453  6.653626  4.309984  7.511664  5.4606032  4.555357\n",
       "theta=0.1:   6.365581  6.030791  3.848484  6.819437  4.8898188  4.121439\n",
       "theta=0.15:  5.661047  5.376151  3.371107  6.091242  4.2903721  3.666446\n",
       "theta=0.2:   4.918254  4.686580  2.871736  5.323255  3.6599709  3.188760\n",
       "theta=0.25:  4.133297  3.958642  2.346428  4.511135  2.9968532  2.687328\n",
       "theta=0.3:   3.302875  3.189035  1.795610  3.650405  2.3012371  2.162844\n",
       "theta=0.4:   1.528959  1.530367  0.682811  1.782355  0.8643605  1.069246\n",
       "theta=0.5:   0.000000  0.000000  0.000000  0.000000  0.0000000  0.000000\n",
       "                    M7         M8         M9        M10        M11       M12\n",
       "theta=0:     5.7141323  5.2550744  4.2537353  3.5643218  0.2874061  1.061945\n",
       "theta=0.05:  5.1742276  4.7499732  3.8555848  3.2523734  3.5708778  4.285454\n",
       "theta=0.1:   4.6083512  4.2271963  3.4424404  2.9319108  3.4368453  4.088351\n",
       "theta=0.15:  4.0141596  3.6832892  3.0136955  2.6029704  3.1568696  3.741883\n",
       "theta=0.2:   3.3894121  3.1151478  2.5688442  2.2654917  2.8032430  3.318095\n",
       "theta=0.25:  2.7327781  2.5213329  2.1077616  1.9191995  2.3982856  2.839221\n",
       "theta=0.3:   2.0462455  1.9051123  1.6317013  1.5634218  1.9533074  2.316724\n",
       "theta=0.4:   0.6694062  0.6923811  0.6734622  0.8170073  0.9867355  1.184283\n",
       "theta=0.5:   0.0000000  0.0000000  0.0000000  0.0000000  0.0000000  0.000000\n",
       "                     M13\n",
       "theta=0:     -32.1732679\n",
       "theta=0.05:    2.1590621\n",
       "theta=0.1:     2.3859584\n",
       "theta=0.15:    2.3427504\n",
       "theta=0.2:     2.1757203\n",
       "theta=0.25:    1.9301442\n",
       "theta=0.3:     1.6262113\n",
       "theta=0.4:     0.8847441\n",
       "theta=0.5:     0.0000000"
      ]
     },
     "metadata": {},
     "output_type": "display_data"
    }
   ],
   "source": [
    "lod_values"
   ]
  },
  {
   "cell_type": "markdown",
   "metadata": {},
   "source": [
    "#### Q6"
   ]
  },
  {
   "cell_type": "markdown",
   "metadata": {},
   "source": [
    "We can the same pattern for markers M1 to M10: max lod score is obtained for theta=0 and its value in each of these markers is higher than 3 -> reject the null hypothesis -> conclusion is this gene is very close to each of these genetic markers. And if the disease gene is close to them all it means that the first 10 markers are in cluster, they are very close. \n",
    "\n",
    "For marker 11 and 12 the max lod score is obtained for same theta value = 0.05 and the value is higher than 3 so we can reject the null hypothesis and conclude that the probable location of the disease locus is around 0.05 cM from these markers. \n",
    "\n",
    "For the marker 13, there is no theta value for which the lod-score is higher than 3, but for theta=0 the lod-sore = -32 < -2 so the null hypothesis is not rejected, hence we can exclude that the disease gene is close to this marker. "
   ]
  },
  {
   "cell_type": "markdown",
   "metadata": {},
   "source": [
    "#### Q7"
   ]
  },
  {
   "attachments": {
    "image.png": {
     "image/png": "[encoded data removed]"
    }
   },
   "cell_type": "markdown",
   "metadata": {},
   "source": [
    "![excel image](attachment:image.png)"
   ]
  },
  {
   "cell_type": "markdown",
   "metadata": {},
   "source": [
    "The recombination rate is between 0 and 0.5 so the confidence interval for the recombination rate will be in this range. Here theta max is 0 because it is for theta = 0 that we have the maximum of the lod score. It means that the lower bound of the confidence interval will be equal to 0 and the intersection is the upper bound. We approximate it. \n",
    "\n",
    "Confidence interval for Marker 1 is ranging between $[0, 0.07]$ "
   ]
  },
  {
   "cell_type": "markdown",
   "metadata": {},
   "source": [
    "### a.7.  Linkage analyses with determination of maximum lodscore"
   ]
  },
  {
   "cell_type": "code",
   "execution_count": 27,
   "metadata": {
    "vscode": {
     "languageId": "r"
    }
   },
   "outputs": [
    {
     "data": {
      "text/plain": [
       "              M5        M7        M8         M12\n",
       "LOD:    6.005044  5.714132  5.255074  4.28823977\n",
       "t_max:  0.000000  0.000000  0.000000  0.04508497"
      ]
     },
     "metadata": {},
     "output_type": "display_data"
    }
   ],
   "source": [
    "lod(xdom, marker=c(5,7,8,12), theta='max')"
   ]
  },
  {
   "cell_type": "markdown",
   "metadata": {},
   "source": [
    "#### Q8"
   ]
  },
  {
   "cell_type": "markdown",
   "metadata": {},
   "source": [
    "Interpretation of the results:  \n",
    "\n",
    "For markers $M_5$, $M_7$ and $M_8$, $\\theta_{max}$ is 0 which means that the markers is very close to the disease gene.  \n",
    "\n",
    "For marker $M_{12}$, $\\theta_{max}$ is 0.045 with a lod score of $0.045\\gt3$, which is -"
   ]
  },
  {
   "cell_type": "markdown",
   "metadata": {},
   "source": [
    "#### Q9"
   ]
  },
  {
   "cell_type": "code",
   "execution_count": 26,
   "metadata": {
    "vscode": {
     "languageId": "r"
    }
   },
   "outputs": [
    {
     "name": "stdout",
     "output_type": "stream",
     "text": [
      "max lod value for marker 1 is 7.6738 \n",
      "max lod value for marker 2 is 7.247411 \n",
      "max lod value for marker 3 is 4.762693 \n",
      "max lod value for marker 4 is 8.171219 \n",
      "max lod value for marker 5 is 6.005044 \n",
      "max lod value for marker 6 is 4.969872 \n",
      "max lod value for marker 7 is 5.714132 \n",
      "max lod value for marker 8 is 5.255074 \n",
      "max lod value for marker 9 is 4.253735 \n",
      "max lod value for marker 10 is 3.564322 \n",
      "max lod value for marker 11 is 3.570878 \n",
      "max lod value for marker 12 is 4.285454 \n",
      "max lod value for marker 13 is 2.385958 \n"
     ]
    }
   ],
   "source": [
    "## as.matrix(lod_values)\n",
    "for (i in 1:ncol(lod_values)){\n",
    "    max_lod=max(lod_values[,i])\n",
    "    cat('max lod value for marker',i,'is',max_lod,'\\n')\n",
    "}"
   ]
  },
  {
   "cell_type": "markdown",
   "metadata": {},
   "source": [
    "#### Q10"
   ]
  },
  {
   "cell_type": "markdown",
   "metadata": {},
   "source": [
    "Markers 1-10 all have the same pattern of lod scores relative to $\\theta$ values: The highest lod score is at $\\theta_0$ and the lowest at $\\theta_{0.5} (=0)$, with lod scores $\\gt3$, which means that the markers are at very close proximity to the disease gene."
   ]
  },
  {
   "cell_type": "markdown",
   "metadata": {},
   "source": [
    "### a.8. Linkage analyses by modifying marker allele frequencies"
   ]
  },
  {
   "cell_type": "code",
   "execution_count": 43,
   "metadata": {
    "vscode": {
     "languageId": "r"
    }
   },
   "outputs": [
    {
     "data": {
      "text/html": [
       "<table class=\"dataframe\">\n",
       "<caption>A data.frame: 9 × 1</caption>\n",
       "<thead>\n",
       "\t<tr><th></th><th scope=col>lod_values[, \"M5\"]</th></tr>\n",
       "\t<tr><th></th><th scope=col>&lt;dbl&gt;</th></tr>\n",
       "</thead>\n",
       "<tbody>\n",
       "\t<tr><th scope=row>0</th><td>6.0050443</td></tr>\n",
       "\t<tr><th scope=row>0.05</th><td>5.4606032</td></tr>\n",
       "\t<tr><th scope=row>0.1</th><td>4.8898188</td></tr>\n",
       "\t<tr><th scope=row>0.15</th><td>4.2903721</td></tr>\n",
       "\t<tr><th scope=row>0.2</th><td>3.6599709</td></tr>\n",
       "\t<tr><th scope=row>0.25</th><td>2.9968532</td></tr>\n",
       "\t<tr><th scope=row>0.3</th><td>2.3012371</td></tr>\n",
       "\t<tr><th scope=row>0.4</th><td>0.8643605</td></tr>\n",
       "\t<tr><th scope=row>0.5</th><td>0.0000000</td></tr>\n",
       "</tbody>\n",
       "</table>\n"
      ],
      "text/latex": [
       "A data.frame: 9 × 1\n",
       "\\begin{tabular}{r|l}\n",
       "  & lod\\_values{[}, \"M5\"{]}\\\\\n",
       "  & <dbl>\\\\\n",
       "\\hline\n",
       "\t0 & 6.0050443\\\\\n",
       "\t0.05 & 5.4606032\\\\\n",
       "\t0.1 & 4.8898188\\\\\n",
       "\t0.15 & 4.2903721\\\\\n",
       "\t0.2 & 3.6599709\\\\\n",
       "\t0.25 & 2.9968532\\\\\n",
       "\t0.3 & 2.3012371\\\\\n",
       "\t0.4 & 0.8643605\\\\\n",
       "\t0.5 & 0.0000000\\\\\n",
       "\\end{tabular}\n"
      ],
      "text/markdown": [
       "\n",
       "A data.frame: 9 × 1\n",
       "\n",
       "| <!--/--> | lod_values[, \"M5\"] &lt;dbl&gt; |\n",
       "|---|---|\n",
       "| 0 | 6.0050443 |\n",
       "| 0.05 | 5.4606032 |\n",
       "| 0.1 | 4.8898188 |\n",
       "| 0.15 | 4.2903721 |\n",
       "| 0.2 | 3.6599709 |\n",
       "| 0.25 | 2.9968532 |\n",
       "| 0.3 | 2.3012371 |\n",
       "| 0.4 | 0.8643605 |\n",
       "| 0.5 | 0.0000000 |\n",
       "\n"
      ],
      "text/plain": [
       "     lod_values[, \"M5\"]\n",
       "0    6.0050443         \n",
       "0.05 5.4606032         \n",
       "0.1  4.8898188         \n",
       "0.15 4.2903721         \n",
       "0.2  3.6599709         \n",
       "0.25 2.9968532         \n",
       "0.3  2.3012371         \n",
       "0.4  0.8643605         \n",
       "0.5  0.0000000         "
      ]
     },
     "metadata": {},
     "output_type": "display_data"
    }
   ],
   "source": [
    "## -- before when they were equifrequent\n",
    "as.data.frame(lod_values[,\"M5\"])"
   ]
  },
  {
   "cell_type": "code",
   "execution_count": 30,
   "metadata": {
    "vscode": {
     "languageId": "r"
    }
   },
   "outputs": [
    {
     "data": {
      "text/plain": [
       "                    M5\n",
       "theta=0:     6.1601384\n",
       "theta=0.05:  5.6089781\n",
       "theta=0.1:   5.0311016\n",
       "theta=0.15:  4.4242603\n",
       "theta=0.2:   3.7862270\n",
       "theta=0.25:  3.1152044\n",
       "theta=0.3:   2.4110015\n",
       "theta=0.4:   0.9454197\n",
       "theta=0.5:   0.0000000"
      ]
     },
     "metadata": {},
     "output_type": "display_data"
    }
   ],
   "source": [
    "## -- after modifying allele frequencies\n",
    "xdom5=modifyMarker(xdom,marker = 5, afreq = c(0.1, 0.1, 0.1, 0.7))\n",
    "lod(xdom5, marker=5, theta=c(0, 0.05, 0.1, 0.15, 0.2, 0.25, 0.3, 0.4, 0.5))"
   ]
  },
  {
   "cell_type": "markdown",
   "metadata": {},
   "source": [
    "#### Q11"
   ]
  },
  {
   "cell_type": "markdown",
   "metadata": {},
   "source": [
    "Results have been modified slightly in each, overall the same pattern (decreasing when increasing theta values) with only a small increase of lod values of when we changed the frequencies, and then reaching 0 when $\\theta=0.5$ \n",
    "\n",
    "why? --"
   ]
  },
  {
   "cell_type": "markdown",
   "metadata": {},
   "source": [
    "### a.9.  Impact of misspecifying the genetic model"
   ]
  },
  {
   "cell_type": "code",
   "execution_count": null,
   "metadata": {
    "vscode": {
     "languageId": "r"
    }
   },
   "outputs": [
    {
     "data": {
      "text/plain": [
       "                 M1         M2         M3         M4         M5         M6\n",
       "theta=0:  -11.52737  -20.34523  0.8394887  -20.80169  -11.46918  -16.24291\n",
       "                 M7         M8        M9        M10        M11        M12\n",
       "theta=0:  -6.483199  -3.089972  1.408298  -14.51178  -16.13149  -8.403986\n",
       "                M13\n",
       "theta=0:  -3.274896"
      ]
     },
     "metadata": {},
     "output_type": "display_data"
    }
   ],
   "source": [
    "xrec=setModel(x, model=2, penetrances=c(0.00001,0.00001, 1), dfreq=0.00001)\n",
    "lod(xrec)"
   ]
  },
  {
   "cell_type": "markdown",
   "metadata": {},
   "source": [
    "#### Q12"
   ]
  },
  {
   "cell_type": "markdown",
   "metadata": {},
   "source": [
    "Markers $M_1, M_2, M_4, M_5, M_6, M_7, M_8, M_{10}, M_{11}, M_{12}, M_{13}$  have a negative value $\\lt-2$ for $\\theta_{max}$, which means that the markers are far from the disease gene.\n",
    "\n",
    "Except for $M_3$ and $M_9$ which have a positive value however ranging between $-2\\lt lodscore\\lt3$ hence nothing can be concluded\n",
    "\n",
    "In this section we have changed the mode of inheritance from autosomal dominant to autosomal recessive, we can clearly see the differences in the results as in here we haven't concluded any marker that is in close proximity to the desiease gene, this is because the mode of inheritance changes the at risk genotypes which in return affect the calculation of the lod score\n",
    "\n",
    "This is the imortance of the disease model's influence, it's crucial to be near the true model.\n",
    "\n",
    "_The lod score is parametric because it's affected by genetic mode of the diseaese and the alellic frequencies_"
   ]
  },
  {
   "cell_type": "markdown",
   "metadata": {},
   "source": [
    "## b: Familial association analysis - TDT"
   ]
  },
  {
   "cell_type": "markdown",
   "metadata": {},
   "source": [
    "```bash\n",
    "!./fbat.exe\n",
    "```\n",
    "\n",
    "\n",
    "```text\n",
    "*******************************************************\n",
    "*                                                     *\n",
    "*     *********  * * *          *       *********     *\n",
    "*     *          *     *       * *          *         *\n",
    "*     *******    *  * *       *   *         *         *\n",
    "*     *          *     *     * *** *        *         *\n",
    "*     *          *     *    *       *       *         *\n",
    "*     *          * * *     *         *      *         *\n",
    "*                                                     *\n",
    "*          Xin Xu  C1999-2009       v2.0.4(beta1)      *\n",
    "*          Program for Population Genetics            *\n",
    "*          Harvard School of Public Health            *\n",
    "*                                                     *\n",
    "*******************************************************\n",
    "```"
   ]
  },
  {
   "cell_type": "markdown",
   "metadata": {},
   "source": [
    "```text\n",
    ">> log resfbat\n",
    "logging to file \"resfbat\" is on\n",
    ">> load fbat.ped\n",
    "read in: 6 markers from 651 pedigrees (652 nuclear families,2011 persons)\n",
    "```\n"
   ]
  },
  {
   "cell_type": "markdown",
   "metadata": {},
   "source": [
    "#### Q13"
   ]
  },
  {
   "cell_type": "markdown",
   "metadata": {},
   "source": [
    "There are:  \n",
    "\n",
    "* 652 nuclear families\n",
    "* 2011 persons i.e. $\\frac{2011}{652} \\approx 3$ individuals per family  \n",
    "* 6 markers"
   ]
  },
  {
   "cell_type": "markdown",
   "metadata": {},
   "source": [
    "```text\n",
    ">> fbat\n",
    "trait affection; offset 0.000; model additive; test bi-allelic; minsize 10; min_freq 0.000; p 1.000; maxcmh 1000\n",
    "\n",
    "Marker  Allele   afreq   fam#     S-E(S)      Var(S)       Z           P\n",
    "------------------------------------------------------------------------\n",
    "SNP2    1        0.636    409      3.500     138.750   0.297    0.766365\n",
    "SNP2    2        0.364    409     -3.500     138.750  -0.297    0.766365\n",
    "SNP3    1        0.370    402      2.000     140.500   0.169    0.866009\n",
    "SNP3    2        0.630    402     -2.000     140.500  -0.169    0.866009\n",
    "SNP4    1        0.403    425      5.000     148.500   0.410    0.681582\n",
    "SNP4    2        0.597    425     -5.000     148.500  -0.410    0.681582\n",
    "SNP5    1        0.626    393     -4.500     136.750  -0.385    0.700377\n",
    "SNP5    2        0.374    393      4.500     136.750   0.385    0.700377\n",
    "SNP6    1        0.212    283    -52.000      91.000  -5.451   5.01e-008\n",
    "SNP6    2        0.788    283     52.000      91.000   5.451   5.01e-008\n",
    "```"
   ]
  },
  {
   "cell_type": "markdown",
   "metadata": {},
   "source": [
    "#### Q14"
   ]
  },
  {
   "cell_type": "markdown",
   "metadata": {},
   "source": [
    "An informative family is a family where there exists at least one parent that is heterozygous (make sure)\n",
    "\n",
    "All SNPs are present in the results, i.e., they have at least 10 informative families (lowest one is 283), hence no, there are no markers for which the number of informative families is insufficient"
   ]
  },
  {
   "cell_type": "markdown",
   "metadata": {},
   "source": [
    "#### Q15"
   ]
  },
  {
   "attachments": {
    "image.png": {
     "image/png": "[encoded data removed]"
    }
   },
   "cell_type": "markdown",
   "metadata": {},
   "source": [
    "![r2 ensembl](attachment:image.png)"
   ]
  },
  {
   "cell_type": "markdown",
   "metadata": {},
   "source": [
    "#### Q16"
   ]
  },
  {
   "cell_type": "markdown",
   "metadata": {},
   "source": [
    "According to the results coming from `fbat`, SNP6 is in association with the disease, it's actually the only one in the table with a p-value less tahn 0.05, thus there is a significant association. It's either that SNP6 is the disease gene or is in linkage disequilibrium with the disease gene.  \n",
    "Allele 2 is the at-risk allele that is more transmited from a heterozygous parent to a diseasee child, since the $S-E(S)\\gt0$ \n",
    "\n",
    "From Ensembl plot, $r^2$ is below threshold for all nearby markers, meaning that none of the markers are in linkage disequilibrium with the SNP of interest (SNP6) `rs76179836`, so we can conclude that it is the causal variant"
   ]
  },
  {
   "cell_type": "markdown",
   "metadata": {},
   "source": [
    "# II. Study of a multifactorial disease: rheumatoid arthritis"
   ]
  },
  {
   "cell_type": "markdown",
   "metadata": {},
   "source": [
    "## a. Genetic linkage analysis–affected sib-pairs method"
   ]
  },
  {
   "cell_type": "markdown",
   "metadata": {},
   "source": [
    "## b. Genome-wide association analysis"
   ]
  },
  {
   "cell_type": "markdown",
   "metadata": {},
   "source": [
    "### b.1. A few quality controlsteps"
   ]
  },
  {
   "cell_type": "markdown",
   "metadata": {},
   "source": [
    "#### Q19"
   ]
  }
 ],
 "metadata": {
  "kernelspec": {
   "display_name": "R",
   "language": "R",
   "name": "ir"
  },
  "language_info": {
   "codemirror_mode": {
    "name": "ipython",
    "version": 3
   },
   "file_extension": ".py",
   "mimetype": "text/x-python",
   "name": "R",
   "nbconvert_exporter": "python",
   "pygments_lexer": "ipython3",
   "version": "3.12.2"
  }
 },
 "nbformat": 4,
 "nbformat_minor": 2
}
