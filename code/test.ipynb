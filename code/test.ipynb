{
 "cells": [
  {
   "cell_type": "code",
   "execution_count": null,
   "metadata": {
    "vscode": {
     "languageId": "r"
    }
   },
   "outputs": [],
   "source": [
    "setwd('../data/TP_DATA_PROG/')"
   ]
  },
  {
   "cell_type": "markdown",
   "metadata": {},
   "source": [
    "# a.1"
   ]
  },
  {
   "cell_type": "code",
   "execution_count": null,
   "metadata": {
    "vscode": {
     "languageId": "r"
    }
   },
   "outputs": [
    {
     "name": "stderr",
     "output_type": "stream",
     "text": [
      "\n",
      "PLEASE NOTE:\n",
      "Paramlink has been superseded by the `ped suite` packages (https://magnusdv.github.io/pedsuite/).\n",
      "It is maintained for legacy purposes only, and should not be used in new projects.\n",
      "\n",
      "\n"
     ]
    }
   ],
   "source": [
    "install.packages('paramlink')\n",
    "library(paramlink)"
   ]
  },
  {
   "cell_type": "code",
   "execution_count": 33,
   "metadata": {
    "vscode": {
     "languageId": "r"
    }
   },
   "outputs": [
    {
     "data": {
      "text/html": [
       "<table class=\"dataframe\">\n",
       "<caption>A data.frame: 6 × 32</caption>\n",
       "<thead>\n",
       "\t<tr><th></th><th scope=col>Family_number</th><th scope=col>Individual_number</th><th scope=col>Father_number</th><th scope=col>Mother_number</th><th scope=col>Sex</th><th scope=col>Disease_status</th><th scope=col>maerke1_1</th><th scope=col>maerke1_2</th><th scope=col>maerke2_1</th><th scope=col>maerke2_2</th><th scope=col>⋯</th><th scope=col>maerke9_1</th><th scope=col>maerke9_2</th><th scope=col>maerke10_1</th><th scope=col>maerke10_2</th><th scope=col>maerke11_1</th><th scope=col>maerke11_2</th><th scope=col>maerke12_1</th><th scope=col>maerke12_2</th><th scope=col>maerke13_1</th><th scope=col>maerke13_2</th></tr>\n",
       "\t<tr><th></th><th scope=col>&lt;int&gt;</th><th scope=col>&lt;int&gt;</th><th scope=col>&lt;int&gt;</th><th scope=col>&lt;int&gt;</th><th scope=col>&lt;int&gt;</th><th scope=col>&lt;int&gt;</th><th scope=col>&lt;int&gt;</th><th scope=col>&lt;int&gt;</th><th scope=col>&lt;int&gt;</th><th scope=col>&lt;int&gt;</th><th scope=col>⋯</th><th scope=col>&lt;int&gt;</th><th scope=col>&lt;int&gt;</th><th scope=col>&lt;int&gt;</th><th scope=col>&lt;int&gt;</th><th scope=col>&lt;int&gt;</th><th scope=col>&lt;int&gt;</th><th scope=col>&lt;int&gt;</th><th scope=col>&lt;int&gt;</th><th scope=col>&lt;int&gt;</th><th scope=col>&lt;int&gt;</th></tr>\n",
       "</thead>\n",
       "<tbody>\n",
       "\t<tr><th scope=row>1</th><td>1</td><td> 1</td><td>0</td><td>0</td><td>1</td><td>2</td><td>0</td><td>0</td><td>0</td><td> 0</td><td>⋯</td><td>0</td><td>0</td><td>0</td><td>0</td><td>0</td><td>0</td><td>0</td><td>0</td><td>0</td><td>0</td></tr>\n",
       "\t<tr><th scope=row>2</th><td>1</td><td> 2</td><td>0</td><td>0</td><td>2</td><td>1</td><td>0</td><td>0</td><td>0</td><td> 0</td><td>⋯</td><td>0</td><td>0</td><td>0</td><td>0</td><td>0</td><td>0</td><td>0</td><td>0</td><td>0</td><td>0</td></tr>\n",
       "\t<tr><th scope=row>3</th><td>1</td><td>21</td><td>0</td><td>0</td><td>2</td><td>1</td><td>0</td><td>0</td><td>0</td><td> 0</td><td>⋯</td><td>0</td><td>0</td><td>0</td><td>0</td><td>0</td><td>0</td><td>0</td><td>0</td><td>0</td><td>0</td></tr>\n",
       "\t<tr><th scope=row>4</th><td>1</td><td> 5</td><td>1</td><td>2</td><td>1</td><td>2</td><td>9</td><td>1</td><td>5</td><td>10</td><td>⋯</td><td>7</td><td>6</td><td>5</td><td>5</td><td>4</td><td>4</td><td>2</td><td>2</td><td>3</td><td>3</td></tr>\n",
       "\t<tr><th scope=row>5</th><td>1</td><td> 4</td><td>1</td><td>2</td><td>1</td><td>1</td><td>0</td><td>0</td><td>0</td><td> 0</td><td>⋯</td><td>0</td><td>0</td><td>0</td><td>0</td><td>0</td><td>0</td><td>0</td><td>0</td><td>0</td><td>0</td></tr>\n",
       "\t<tr><th scope=row>6</th><td>1</td><td> 3</td><td>1</td><td>2</td><td>1</td><td>2</td><td>0</td><td>0</td><td>0</td><td> 0</td><td>⋯</td><td>0</td><td>0</td><td>0</td><td>0</td><td>0</td><td>0</td><td>0</td><td>0</td><td>0</td><td>0</td></tr>\n",
       "</tbody>\n",
       "</table>\n"
      ],
      "text/latex": [
       "A data.frame: 6 × 32\n",
       "\\begin{tabular}{r|lllllllllllllllllllll}\n",
       "  & Family\\_number & Individual\\_number & Father\\_number & Mother\\_number & Sex & Disease\\_status & maerke1\\_1 & maerke1\\_2 & maerke2\\_1 & maerke2\\_2 & ⋯ & maerke9\\_1 & maerke9\\_2 & maerke10\\_1 & maerke10\\_2 & maerke11\\_1 & maerke11\\_2 & maerke12\\_1 & maerke12\\_2 & maerke13\\_1 & maerke13\\_2\\\\\n",
       "  & <int> & <int> & <int> & <int> & <int> & <int> & <int> & <int> & <int> & <int> & ⋯ & <int> & <int> & <int> & <int> & <int> & <int> & <int> & <int> & <int> & <int>\\\\\n",
       "\\hline\n",
       "\t1 & 1 &  1 & 0 & 0 & 1 & 2 & 0 & 0 & 0 &  0 & ⋯ & 0 & 0 & 0 & 0 & 0 & 0 & 0 & 0 & 0 & 0\\\\\n",
       "\t2 & 1 &  2 & 0 & 0 & 2 & 1 & 0 & 0 & 0 &  0 & ⋯ & 0 & 0 & 0 & 0 & 0 & 0 & 0 & 0 & 0 & 0\\\\\n",
       "\t3 & 1 & 21 & 0 & 0 & 2 & 1 & 0 & 0 & 0 &  0 & ⋯ & 0 & 0 & 0 & 0 & 0 & 0 & 0 & 0 & 0 & 0\\\\\n",
       "\t4 & 1 &  5 & 1 & 2 & 1 & 2 & 9 & 1 & 5 & 10 & ⋯ & 7 & 6 & 5 & 5 & 4 & 4 & 2 & 2 & 3 & 3\\\\\n",
       "\t5 & 1 &  4 & 1 & 2 & 1 & 1 & 0 & 0 & 0 &  0 & ⋯ & 0 & 0 & 0 & 0 & 0 & 0 & 0 & 0 & 0 & 0\\\\\n",
       "\t6 & 1 &  3 & 1 & 2 & 1 & 2 & 0 & 0 & 0 &  0 & ⋯ & 0 & 0 & 0 & 0 & 0 & 0 & 0 & 0 & 0 & 0\\\\\n",
       "\\end{tabular}\n"
      ],
      "text/markdown": [
       "\n",
       "A data.frame: 6 × 32\n",
       "\n",
       "| <!--/--> | Family_number &lt;int&gt; | Individual_number &lt;int&gt; | Father_number &lt;int&gt; | Mother_number &lt;int&gt; | Sex &lt;int&gt; | Disease_status &lt;int&gt; | maerke1_1 &lt;int&gt; | maerke1_2 &lt;int&gt; | maerke2_1 &lt;int&gt; | maerke2_2 &lt;int&gt; | ⋯ ⋯ | maerke9_1 &lt;int&gt; | maerke9_2 &lt;int&gt; | maerke10_1 &lt;int&gt; | maerke10_2 &lt;int&gt; | maerke11_1 &lt;int&gt; | maerke11_2 &lt;int&gt; | maerke12_1 &lt;int&gt; | maerke12_2 &lt;int&gt; | maerke13_1 &lt;int&gt; | maerke13_2 &lt;int&gt; |\n",
       "|---|---|---|---|---|---|---|---|---|---|---|---|---|---|---|---|---|---|---|---|---|---|\n",
       "| 1 | 1 |  1 | 0 | 0 | 1 | 2 | 0 | 0 | 0 |  0 | ⋯ | 0 | 0 | 0 | 0 | 0 | 0 | 0 | 0 | 0 | 0 |\n",
       "| 2 | 1 |  2 | 0 | 0 | 2 | 1 | 0 | 0 | 0 |  0 | ⋯ | 0 | 0 | 0 | 0 | 0 | 0 | 0 | 0 | 0 | 0 |\n",
       "| 3 | 1 | 21 | 0 | 0 | 2 | 1 | 0 | 0 | 0 |  0 | ⋯ | 0 | 0 | 0 | 0 | 0 | 0 | 0 | 0 | 0 | 0 |\n",
       "| 4 | 1 |  5 | 1 | 2 | 1 | 2 | 9 | 1 | 5 | 10 | ⋯ | 7 | 6 | 5 | 5 | 4 | 4 | 2 | 2 | 3 | 3 |\n",
       "| 5 | 1 |  4 | 1 | 2 | 1 | 1 | 0 | 0 | 0 |  0 | ⋯ | 0 | 0 | 0 | 0 | 0 | 0 | 0 | 0 | 0 | 0 |\n",
       "| 6 | 1 |  3 | 1 | 2 | 1 | 2 | 0 | 0 | 0 |  0 | ⋯ | 0 | 0 | 0 | 0 | 0 | 0 | 0 | 0 | 0 | 0 |\n",
       "\n"
      ],
      "text/plain": [
       "  Family_number Individual_number Father_number Mother_number Sex\n",
       "1 1              1                0             0             1  \n",
       "2 1              2                0             0             2  \n",
       "3 1             21                0             0             2  \n",
       "4 1              5                1             2             1  \n",
       "5 1              4                1             2             1  \n",
       "6 1              3                1             2             1  \n",
       "  Disease_status maerke1_1 maerke1_2 maerke2_1 maerke2_2 ⋯ maerke9_1 maerke9_2\n",
       "1 2              0         0         0          0        ⋯ 0         0        \n",
       "2 1              0         0         0          0        ⋯ 0         0        \n",
       "3 1              0         0         0          0        ⋯ 0         0        \n",
       "4 2              9         1         5         10        ⋯ 7         6        \n",
       "5 1              0         0         0          0        ⋯ 0         0        \n",
       "6 2              0         0         0          0        ⋯ 0         0        \n",
       "  maerke10_1 maerke10_2 maerke11_1 maerke11_2 maerke12_1 maerke12_2 maerke13_1\n",
       "1 0          0          0          0          0          0          0         \n",
       "2 0          0          0          0          0          0          0         \n",
       "3 0          0          0          0          0          0          0         \n",
       "4 5          5          4          4          2          2          3         \n",
       "5 0          0          0          0          0          0          0         \n",
       "6 0          0          0          0          0          0          0         \n",
       "  maerke13_2\n",
       "1 0         \n",
       "2 0         \n",
       "3 0         \n",
       "4 3         \n",
       "5 0         \n",
       "6 0         "
      ]
     },
     "metadata": {},
     "output_type": "display_data"
    }
   ],
   "source": [
    "# Family number (identifier)•Individual number•Father's number (0 = no father in the sample analyzed)•Mother's number (0 = no mother in the sample analyzed)•Sex (1=male; 2 = female)•Disease status (1=not affected; 2 = affected; 0 = unknown)•Genotypes for the 13 markers (2 columns per marker; 1 allele  per column) -0 0 = unknown genotype\n",
    "cols<-c('Family_number','Individual_number','Father_number','Mother_number', 'Sex', 'Disease_status','maerke1_1','maerke1_2','maerke2_1','maerke2_2','maerke3_1','maerke3_2','maerke4_1','maerke4_2','maerke5_1','maerke5_2','maerke6_1','maerke6_2','maerke7_1','maerke7_2','maerke8_1','maerke8_2','maerke9_1','maerke9_2','maerke10_1','maerke10_2','maerke11_1','maerke11_2','maerke12_1','maerke12_2','maerke13_1','maerke13_2')\n",
    "\n",
    "fam<-read.table('I.a.Paramlink/fam.txt')\n",
    "colnames(fam)<-cols\n",
    "head(fam)"
   ]
  },
  {
   "cell_type": "code",
   "execution_count": 7,
   "metadata": {
    "vscode": {
     "languageId": "r"
    }
   },
   "outputs": [
    {
     "ename": "ERROR",
     "evalue": "Error: '../data/TP_DATA_PROG/fam.txt' does not exist in current working directory ('/mnt/g/my_stuff/masters/saclay/courses/M1/NGS/part_2/code').\n",
     "output_type": "error",
     "traceback": [
      "Error: '../data/TP_DATA_PROG/fam.txt' does not exist in current working directory ('/mnt/g/my_stuff/masters/saclay/courses/M1/NGS/part_2/code').\nTraceback:\n",
      "1. read_delimited(file, tokenizer, col_names = col_names, col_types = col_types, \n .     locale = locale, skip = skip, skip_empty_rows = skip_empty_rows, \n .     skip_quote = FALSE, comment = comment, n_max = n_max, guess_max = guess_max, \n .     progress = progress, show_col_types = show_col_types)",
      "2. standardise_path(file)",
      "3. check_path(path)",
      "4. stop(\"'\", path, \"' does not exist\", if (!is_absolute_path(path)) {\n .     paste0(\" in current working directory ('\", getwd(), \"')\")\n . }, \".\", call. = FALSE)",
      "5. .handleSimpleError(function (cnd) \n . {\n .     watcher$capture_plot_and_output()\n .     cnd <- sanitize_call(cnd)\n .     watcher$push(cnd)\n .     switch(on_error, continue = invokeRestart(\"eval_continue\"), \n .         stop = invokeRestart(\"eval_stop\"), error = invokeRestart(\"eval_error\", \n .             cnd))\n . }, \"'../data/TP_DATA_PROG/fam.txt' does not exist in current working directory ('/mnt/g/my_stuff/masters/saclay/courses/M1/NGS/part_2/code').\", \n .     base::quote(NULL))"
     ]
    }
   ],
   "source": [
    "read_table('../data/TP_DATA_PROG/fam.txt')"
   ]
  }
 ],
 "metadata": {
  "kernelspec": {
   "display_name": "R",
   "language": "R",
   "name": "ir"
  },
  "language_info": {
   "codemirror_mode": "r",
   "file_extension": ".r",
   "mimetype": "text/x-r-source",
   "name": "R",
   "pygments_lexer": "r",
   "version": "4.4.2"
  }
 },
 "nbformat": 4,
 "nbformat_minor": 2
}
